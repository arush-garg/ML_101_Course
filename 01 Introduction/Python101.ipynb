{
 "cells": [
  {
   "attachments": {},
   "cell_type": "markdown",
   "metadata": {},
   "source": [
    "Welcome to Jupyter Notebooks"
   ]
  },
  {
   "attachments": {},
   "cell_type": "markdown",
   "metadata": {},
   "source": [
    "These Notebooks use a Python Interpreter to run code"
   ]
  },
  {
   "attachments": {},
   "cell_type": "markdown",
   "metadata": {},
   "source": [
    "Try some of the simple operations below"
   ]
  },
  {
   "cell_type": "code",
   "execution_count": 1,
   "metadata": {},
   "outputs": [
    {
     "name": "stdout",
     "output_type": "stream",
     "text": [
      "42\n"
     ]
    }
   ],
   "source": [
    "#Defining a variable\n",
    "temp = 42\n",
    "\n",
    "#Use the print() command to output the value of variables\n",
    "print(temp)"
   ]
  },
  {
   "cell_type": "code",
   "execution_count": 2,
   "metadata": {},
   "outputs": [
    {
     "name": "stdout",
     "output_type": "stream",
     "text": [
      "43 84\n"
     ]
    }
   ],
   "source": [
    "#Simple mathematical operations\n",
    "\n",
    "temp_1 = temp + 1\n",
    "temp_2 = temp * 2\n",
    "\n",
    "print(temp_1, temp_2)"
   ]
  },
  {
   "cell_type": "code",
   "execution_count": 3,
   "metadata": {},
   "outputs": [
    {
     "name": "stdout",
     "output_type": "stream",
     "text": [
      "F-14 Tomcat\n"
     ]
    }
   ],
   "source": [
    "#Lists\n",
    "jets = ['F-14 Tomcat', 'F-16 Falcon', 'F-22 Raptor']\n",
    "\n",
    "#Access elements by index number (starts with 0)\n",
    "print(jets[0])"
   ]
  },
  {
   "cell_type": "code",
   "execution_count": 7,
   "metadata": {},
   "outputs": [
    {
     "name": "stdout",
     "output_type": "stream",
     "text": [
      "6\n"
     ]
    }
   ],
   "source": [
    "#Getting packages. If it gives an error, create a new cell and type:\n",
    "#!pip install --upgrade <package name>\n",
    "#Depending on your computer, you may have to replace pip with pip3\n",
    "\n",
    "import random\n",
    "\n",
    "rand = random.randint(1, 10)\n",
    "print(rand)"
   ]
  }
 ],
 "metadata": {
  "kernelspec": {
   "display_name": "Python 3",
   "language": "python",
   "name": "python3"
  },
  "language_info": {
   "codemirror_mode": {
    "name": "ipython",
    "version": 3
   },
   "file_extension": ".py",
   "mimetype": "text/x-python",
   "name": "python",
   "nbconvert_exporter": "python",
   "pygments_lexer": "ipython3",
   "version": "3.11.1"
  },
  "orig_nbformat": 4
 },
 "nbformat": 4,
 "nbformat_minor": 2
}
