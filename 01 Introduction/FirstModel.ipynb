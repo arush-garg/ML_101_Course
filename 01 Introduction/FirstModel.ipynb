{
 "cells": [
  {
   "cell_type": "code",
   "execution_count": 1,
   "metadata": {},
   "outputs": [],
   "source": [
    "%config IPCompleter.greedy=True\n",
    "\n",
    "import numpy as np\n",
    "import pandas as pd\n",
    "\n",
    "data = pd.read_csv('data/SAT_GPA.csv')"
   ]
  },
  {
   "attachments": {},
   "cell_type": "markdown",
   "metadata": {},
   "source": [
    "Explore the data"
   ]
  },
  {
   "cell_type": "code",
   "execution_count": 2,
   "metadata": {},
   "outputs": [
    {
     "name": "stdout",
     "output_type": "stream",
     "text": [
      "<class 'pandas.core.frame.DataFrame'>\n",
      "RangeIndex: 181 entries, 0 to 180\n",
      "Data columns (total 2 columns):\n",
      " #   Column     Non-Null Count  Dtype  \n",
      "---  ------     --------------  -----  \n",
      " 0   SAT Score  181 non-null    int64  \n",
      " 1   GPA        181 non-null    float64\n",
      "dtypes: float64(1), int64(1)\n",
      "memory usage: 3.0 KB\n",
      "None\n"
     ]
    }
   ],
   "source": [
    "print(data.info())"
   ]
  },
  {
   "cell_type": "code",
   "execution_count": 3,
   "metadata": {},
   "outputs": [
    {
     "name": "stdout",
     "output_type": "stream",
     "text": [
      "   SAT Score  GPA\n",
      "0       1600  4.0\n",
      "1       1593  4.0\n",
      "2       1587  4.0\n",
      "3       1580  4.0\n",
      "4       1573  4.0\n"
     ]
    }
   ],
   "source": [
    "print(data[:5])"
   ]
  },
  {
   "cell_type": "code",
   "execution_count": 4,
   "metadata": {},
   "outputs": [
    {
     "name": "stdout",
     "output_type": "stream",
     "text": [
      "         SAT Score         GPA\n",
      "count   181.000000  181.000000\n",
      "mean   1000.000000    2.617901\n",
      "std     349.293573    1.559243\n",
      "min     400.000000    0.000000\n",
      "25%     700.000000    1.390000\n",
      "50%    1000.000000    3.370000\n",
      "75%    1300.000000    3.970000\n",
      "max    1600.000000    4.000000\n"
     ]
    }
   ],
   "source": [
    "print(data.describe())"
   ]
  },
  {
   "attachments": {},
   "cell_type": "markdown",
   "metadata": {},
   "source": [
    "Visualise the Data"
   ]
  },
  {
   "cell_type": "code",
   "execution_count": 5,
   "metadata": {},
   "outputs": [
    {
     "data": {
      "image/png": "[encoded data removed]",
      "text/plain": [
       "<Figure size 640x480 with 1 Axes>"
      ]
     },
     "metadata": {},
     "output_type": "display_data"
    }
   ],
   "source": [
    "%matplotlib inline\n",
    "import matplotlib.pyplot as plt\n",
    "\n",
    "plt.scatter(data['GPA'], data['SAT Score'])\n",
    "plt.show()"
   ]
  },
  {
   "cell_type": "code",
   "execution_count": 6,
   "metadata": {},
   "outputs": [
    {
     "name": "stdout",
     "output_type": "stream",
     "text": [
      "(144,)\n",
      "(37,)\n",
      "(144,)\n",
      "(37,)\n"
     ]
    }
   ],
   "source": [
    "#Split the data\n",
    "import sklearn.model_selection as ms\n",
    "\n",
    "train_features, test_features, train_labels, test_labels = ms.train_test_split(data['GPA'], data['SAT Score'], test_size=0.2)\n",
    "print(train_features.shape)\n",
    "print(test_features.shape)\n",
    "print(train_labels.shape)\n",
    "print(test_labels.shape)"
   ]
  },
  {
   "cell_type": "code",
   "execution_count": 7,
   "metadata": {},
   "outputs": [
    {
     "name": "stdout",
     "output_type": "stream",
     "text": [
      "(144, 1)\n"
     ]
    }
   ],
   "source": [
    "train_features = np.reshape(train_features, (144, 1))\n",
    "print(train_features.shape)"
   ]
  },
  {
   "cell_type": "code",
   "execution_count": 8,
   "metadata": {},
   "outputs": [
    {
     "name": "stdout",
     "output_type": "stream",
     "text": [
      "(37, 1)\n"
     ]
    }
   ],
   "source": [
    "test_features = np.reshape(test_features, (37, 1))\n",
    "print(test_features.shape)"
   ]
  },
  {
   "cell_type": "code",
   "execution_count": 9,
   "metadata": {},
   "outputs": [],
   "source": [
    "#Train the model (its simpler than you think)\n",
    "from sklearn import linear_model as lm\n",
    "\n",
    "regr = lm.LinearRegression()\n",
    "regr = regr.fit(train_features, train_labels)"
   ]
  },
  {
   "attachments": {},
   "cell_type": "markdown",
   "metadata": {},
   "source": [
    "That's it! Model Trained!"
   ]
  },
  {
   "cell_type": "code",
   "execution_count": 10,
   "metadata": {},
   "outputs": [
    {
     "name": "stdout",
     "output_type": "stream",
     "text": [
      "TRAIN Root Mean Squared Error: 135.60\n"
     ]
    }
   ],
   "source": [
    "#Evaluate the performance\n",
    "from sklearn.metrics import mean_squared_error as mse\n",
    "\n",
    "train_predictions = regr.predict(train_features)\n",
    "\n",
    "print(\"TRAIN Root Mean Squared Error: %.2f\" % \n",
    "      (mse(train_labels, train_predictions)**0.5))"
   ]
  },
  {
   "cell_type": "code",
   "execution_count": 11,
   "metadata": {},
   "outputs": [
    {
     "name": "stdout",
     "output_type": "stream",
     "text": [
      "TEST Root Mean Squared Error: 127.57\n"
     ]
    }
   ],
   "source": [
    "test_predictions = regr.predict(test_features)\n",
    "\n",
    "print(\"TEST Root Mean Squared Error: %.2f\"\n",
    "      % (mse(test_labels, test_predictions)**0.5))"
   ]
  },
  {
   "cell_type": "code",
   "execution_count": 12,
   "metadata": {},
   "outputs": [
    {
     "name": "stdout",
     "output_type": "stream",
     "text": [
      "1270\n"
     ]
    }
   ],
   "source": [
    "#This means your final result can be +- 130\n",
    "\n",
    "#Try it yourself (replace 3.94 with your GPA):\n",
    "\n",
    "gpa = np.reshape([3.94], (1,1))\n",
    "SAT_pred = int(regr.predict(gpa))\n",
    "print(SAT_pred)"
   ]
  },
  {
   "attachments": {},
   "cell_type": "markdown",
   "metadata": {},
   "source": [
    "Model Visualisation"
   ]
  },
  {
   "cell_type": "code",
   "execution_count": 13,
   "metadata": {},
   "outputs": [],
   "source": [
    "x = train_features\n",
    "m = regr.coef_\n",
    "c = regr.intercept_\n",
    "\n",
    "y = m*x + c"
   ]
  },
  {
   "cell_type": "code",
   "execution_count": 19,
   "metadata": {},
   "outputs": [
    {
     "name": "stderr",
     "output_type": "stream",
     "text": [
      "/var/folders/hc/_rm2mjw14y9_r7933xkcw3p80000gn/T/ipykernel_45701/2686573392.py:2: UserWarning: color is redundantly defined by the 'color' keyword argument and the fmt string \"c\" (-> color=(0.0, 0.75, 0.75, 1)). The keyword argument will take precedence.\n",
      "  plt.plot(x, y, 'c', linewidth=2, color='red')\n"
     ]
    },
    {
     "data": {
      "image/png": "[encoded data removed]",
      "text/plain": [
       "<Figure size 640x480 with 1 Axes>"
      ]
     },
     "metadata": {},
     "output_type": "display_data"
    }
   ],
   "source": [
    "plt.scatter(data['GPA'], data['SAT Score'])\n",
    "plt.plot(x, y, 'c', linewidth=2, color='red')\n",
    "plt.xlabel('GPA')\n",
    "plt.ylabel('SAT Score')\n",
    "\n",
    "plt.show()"
   ]
  },
  {
   "attachments": {},
   "cell_type": "markdown",
   "metadata": {},
   "source": [
    "The performance does not seem spectacular, but this will be fixed in the next lesson"
   ]
  }
 ],
 "metadata": {
  "kernelspec": {
   "display_name": "Python 3",
   "language": "python",
   "name": "python3"
  },
  "language_info": {
   "codemirror_mode": {
    "name": "ipython",
    "version": 3
   },
   "file_extension": ".py",
   "mimetype": "text/x-python",
   "name": "python",
   "nbconvert_exporter": "python",
   "pygments_lexer": "ipython3",
   "version": "3.11.1"
  },
  "orig_nbformat": 4
 },
 "nbformat": 4,
 "nbformat_minor": 2
}
