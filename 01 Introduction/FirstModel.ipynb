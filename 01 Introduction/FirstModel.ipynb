{
  "cells": [
    {
      "cell_type": "markdown",
      "metadata": {
        "id": "MvFZUpYzxO2k"
      },
      "source": [
        "# Hands-on introduction to ML training\n",
        "In this notebook we will train a simple Linear Regression model to predict the SAT score of a student given their GPA.\n",
        "\n",
        " **Linear Regression** is a type of Supervised Learning where the ML model is trained by feeding in data with right answers, so it can learn to give correct answers for new inputs it hasn't seen before.\n",
        "\n",
        "### Step 1: Load and explore data\n",
        "The first step is figuring out the data source. In this case we will use a pre-existing dataset. We will:\n",
        "1. Create a folder 'data'\n",
        "2. Download the file from public github repo using python package \"requests\" and save the `SAT_GPA.csv` file in the data folder.\n"
      ]
    },
    {
      "cell_type": "code",
      "execution_count": 1,
      "metadata": {
        "colab": {
          "base_uri": "https://localhost:8080/"
        },
        "id": "R76owNow0fIe",
        "outputId": "ec6ede24-b747-484d-b451-06d6ea47c9df"
      },
      "outputs": [
        {
          "name": "stdout",
          "output_type": "stream",
          "text": [
            "[Errno 17] File exists: 'data'\n"
          ]
        }
      ],
      "source": [
        "import os\n",
        "\n",
        "try:\n",
        "    os.mkdir('data')\n",
        "except OSError as error:\n",
        "    print(error)\n",
        "\n",
        "import requests, csv\n",
        "\n",
        "url = 'https://raw.githubusercontent.com/techno-nerd/ML_Course/main/01%20Introduction/data/SAT_GPA.csv'\n",
        "r = requests.get(url)\n",
        "with open('data/SAT_GPA.csv', 'w') as f:\n",
        "  writer = csv.writer(f)\n",
        "  for line in r.iter_lines():\n",
        "    writer.writerow(line.decode('utf-8').split(','))"
      ]
    },
    {
      "cell_type": "markdown",
      "metadata": {
        "id": "JsYY8nrk2SdC"
      },
      "source": [
        "Now we will use a popular python package \"pandas\" to load and process the data. To learn more about pandas, watch this [video](https://www.youtube.com/watch?v=vmEHCJofslg)."
      ]
    },
    {
      "cell_type": "code",
      "execution_count": 2,
      "metadata": {
        "id": "-1JMpFN2xO2m"
      },
      "outputs": [],
      "source": [
        "import pandas as pd\n",
        "\n",
        "data = pd.read_csv('data/SAT_GPA.csv')"
      ]
    },
    {
      "cell_type": "markdown",
      "metadata": {
        "id": "8DTtcCJ6xO2n"
      },
      "source": [
        "Now the entire SAT_GPA.csv content has been loaded into 'data' variable (Pandas DataFrame). It's time to **explore this data**\n",
        "\n"
      ]
    },
    {
      "cell_type": "code",
      "execution_count": 3,
      "metadata": {
        "colab": {
          "base_uri": "https://localhost:8080/"
        },
        "id": "DaqbaPm7xO2n",
        "outputId": "9c9b223d-fa65-4fe3-ad19-02351b3d756a"
      },
      "outputs": [
        {
          "name": "stdout",
          "output_type": "stream",
          "text": [
            "<class 'pandas.core.frame.DataFrame'>\n",
            "RangeIndex: 181 entries, 0 to 180\n",
            "Data columns (total 2 columns):\n",
            " #   Column     Non-Null Count  Dtype  \n",
            "---  ------     --------------  -----  \n",
            " 0   SAT Score  181 non-null    int64  \n",
            " 1   GPA        181 non-null    float64\n",
            "dtypes: float64(1), int64(1)\n",
            "memory usage: 3.0 KB\n",
            "None\n"
          ]
        }
      ],
      "source": [
        "print(data.info())"
      ]
    },
    {
      "cell_type": "markdown",
      "metadata": {
        "id": "Xa-cY4ip5n2g"
      },
      "source": [
        "This data has two columns, \"SAT Score\" and \"GPA\". Overall there are 181 rows (index 0 to 180). All the values in the two columns are non-null."
      ]
    },
    {
      "cell_type": "code",
      "execution_count": 4,
      "metadata": {
        "id": "aT1LmFTxxO2o",
        "outputId": "72b1d42b-16f2-4dde-a2f9-c77127401164"
      },
      "outputs": [
        {
          "name": "stdout",
          "output_type": "stream",
          "text": [
            "   SAT Score  GPA\n",
            "0       1600  4.0\n",
            "1       1593  4.0\n",
            "2       1587  4.0\n",
            "3       1580  4.0\n",
            "4       1573  4.0\n"
          ]
        }
      ],
      "source": [
        "# print first five rows (index 0, 1, 2, 3 and 4)\n",
        "print(data[:5])"
      ]
    },
    {
      "cell_type": "code",
      "execution_count": 5,
      "metadata": {
        "id": "MKZSAm-ZxO2o",
        "outputId": "45398238-8412-47cc-8e29-6464846af896"
      },
      "outputs": [
        {
          "name": "stdout",
          "output_type": "stream",
          "text": [
            "         SAT Score         GPA\n",
            "count   181.000000  181.000000\n",
            "mean   1000.000000    2.617901\n",
            "std     349.293573    1.559243\n",
            "min     400.000000    0.000000\n",
            "25%     700.000000    1.390000\n",
            "50%    1000.000000    3.370000\n",
            "75%    1300.000000    3.970000\n",
            "max    1600.000000    4.000000\n"
          ]
        }
      ],
      "source": [
        "# print useful stats like mean, min, max, ... for each column\n",
        "print(data.describe())"
      ]
    },
    {
      "cell_type": "markdown",
      "metadata": {
        "id": "zooh3K6hxO2o"
      },
      "source": [
        "**Visualise the Data**\n",
        "Visualising the data is often a big part of data exploration. As they say, a picture is worth a thousand words.\n",
        "\n",
        "We will use a popular python package \"matplotlib\" to create the visualisations. You can learn about matplotlib in detail from this [video](https://www.youtube.com/watch?v=OZOOLe2imFo)"
      ]
    },
    {
      "cell_type": "code",
      "execution_count": 6,
      "metadata": {
        "colab": {
          "base_uri": "https://localhost:8080/",
          "height": 430
        },
        "id": "MlPhN39kxO2o",
        "outputId": "4a2e0841-f35d-4686-95e8-1b38d5ec9235"
      },
      "outputs": [
        {
          "data": {
            "image/png": "[encoded data removed]",
            "text/plain": [
              "<Figure size 640x480 with 1 Axes>"
            ]
          },
          "metadata": {},
          "output_type": "display_data"
        }
      ],
      "source": [
        "%matplotlib inline\n",
        "import matplotlib.pyplot as plt\n",
        "\n",
        "plt.scatter(data['GPA'], data['SAT Score'])\n",
        "plt.show()"
      ]
    },
    {
      "cell_type": "markdown",
      "metadata": {
        "id": "bLpNhBtH6ybx"
      },
      "source": [
        "GPA is on the x-axis and SAT Score is on the y-axis\n",
        "There are quite a few rows with GPA = 0, that looks fishy. For now we will ignore that and move to the next step: Data Preparation and Feature Engineering"
      ]
    },
    {
      "cell_type": "markdown",
      "metadata": {
        "id": "-krtc5yo7RpX"
      },
      "source": [
        "### Step 2: Data preparation and feature engineering\n",
        "\n",
        "In this introductory exercise, we will do absolute bare minimum data prep / feature eng work.\n",
        "\n",
        "We will simply:\n",
        "1. Split the data (181 rows) into training set (80%) and test set (20%)\n",
        "2. Separate the input features (\"GPA\") from target variable (\"SAT Score\")\n",
        "\n",
        "We will use \"numpy\", another popular python package to prepare these data sets (as numpy arrays) that will then be fed into the ML model.\n",
        "\n",
        "We will use scikit-learn (sklearn), a popular Python package that provides tools for simple and efficient machine learning"
      ]
    },
    {
      "cell_type": "code",
      "execution_count": 7,
      "metadata": {
        "colab": {
          "base_uri": "https://localhost:8080/"
        },
        "id": "MZFppXHNxO2o",
        "outputId": "470c59a1-e5be-406c-c7f8-f6ae596af7f6"
      },
      "outputs": [
        {
          "name": "stdout",
          "output_type": "stream",
          "text": [
            "(144,)\n",
            "(37,)\n",
            "(144,)\n",
            "(37,)\n"
          ]
        }
      ],
      "source": [
        "# Split the data\n",
        "# 0.2 = random 20% data points (rows) will be used for test-set\n",
        "# train_features and train_labels will be used to train the ML model\n",
        "# test_features and test_labels will be used to test the quality of the learnt model\n",
        "\n",
        "import sklearn.model_selection as ms\n",
        "import numpy as np\n",
        "\n",
        "train_features, test_features, train_labels, test_labels = ms.train_test_split(data['GPA'], data['SAT Score'], test_size=0.2)\n",
        "print(train_features.shape)\n",
        "print(test_features.shape)\n",
        "print(train_labels.shape)\n",
        "print(test_labels.shape)"
      ]
    },
    {
      "cell_type": "code",
      "execution_count": 8,
      "metadata": {
        "colab": {
          "base_uri": "https://localhost:8080/"
        },
        "id": "1UrRVul39iOU",
        "outputId": "a30f0334-d498-4f27-f934-5dfdd47b0e86"
      },
      "outputs": [
        {
          "name": "stdout",
          "output_type": "stream",
          "text": [
            "<class 'pandas.core.series.Series'>\n"
          ]
        }
      ],
      "source": [
        "print(type(train_features))"
      ]
    },
    {
      "cell_type": "code",
      "execution_count": 9,
      "metadata": {
        "id": "YRE7QCAYxO2o"
      },
      "outputs": [],
      "source": [
        "if type(train_features) != 'numpy.ndarray':\n",
        "    train_features, test_features, train_labels, test_labels = train_features.to_numpy(), test_features.to_numpy(), train_labels.to_numpy(), test_labels.to_numpy()"
      ]
    },
    {
      "cell_type": "code",
      "execution_count": 10,
      "metadata": {
        "colab": {
          "base_uri": "https://localhost:8080/"
        },
        "id": "OFKSVs1LxO2p",
        "outputId": "2d1100cf-487b-4091-cce5-bf56cf16125b"
      },
      "outputs": [
        {
          "name": "stdout",
          "output_type": "stream",
          "text": [
            "(144, 1)\n",
            "[[3.98]\n",
            " [3.92]\n",
            " [3.99]]\n"
          ]
        }
      ],
      "source": [
        "train_features = np.reshape(train_features, (144, 1))\n",
        "print(train_features.shape)\n",
        "print(train_features[:3])"
      ]
    },
    {
      "cell_type": "code",
      "execution_count": 11,
      "metadata": {
        "colab": {
          "base_uri": "https://localhost:8080/"
        },
        "id": "wnx2hBXZxO2p",
        "outputId": "2b7d31af-9afe-4d8c-e54c-cb06739f540a"
      },
      "outputs": [
        {
          "name": "stdout",
          "output_type": "stream",
          "text": [
            "(37, 1)\n"
          ]
        }
      ],
      "source": [
        "test_features = np.reshape(test_features, (37, 1))\n",
        "print(test_features.shape)"
      ]
    },
    {
      "cell_type": "markdown",
      "metadata": {
        "id": "fcD_vVgFA7oc"
      },
      "source": [
        "### Step 3: Model Selection and Training\n",
        "\n",
        "We will use one of the simplest ML model for this problem: Linear Regression"
      ]
    },
    {
      "cell_type": "code",
      "execution_count": 12,
      "metadata": {
        "id": "nIfARbY-xO2p"
      },
      "outputs": [],
      "source": [
        "#Train the model (its simpler than you think)\n",
        "from sklearn import linear_model as lm\n",
        "\n",
        "regr = lm.LinearRegression()\n",
        "regr = regr.fit(train_features, train_labels)"
      ]
    },
    {
      "cell_type": "markdown",
      "metadata": {
        "id": "njeiy9uhxO2p"
      },
      "source": [
        "That's it! Model Trained!\n",
        "Often in ML, the actual model training part is a very small portion of total work involved."
      ]
    },
    {
      "cell_type": "code",
      "execution_count": 13,
      "metadata": {
        "colab": {
          "base_uri": "https://localhost:8080/"
        },
        "id": "-3cVs_r9xO2p",
        "outputId": "32e3a7fa-c969-49a3-c5b4-d3557d0ade8a"
      },
      "outputs": [
        {
          "name": "stdout",
          "output_type": "stream",
          "text": [
            "TRAIN Root Mean Squared Error: 131.74\n"
          ]
        }
      ],
      "source": [
        "#Evaluate the performance\n",
        "from sklearn.metrics import mean_squared_error as mse\n",
        "\n",
        "train_predictions = regr.predict(train_features)\n",
        "\n",
        "print(\"TRAIN Root Mean Squared Error: %.2f\" %\n",
        "      (mse(train_labels, train_predictions)**0.5))"
      ]
    },
    {
      "cell_type": "markdown",
      "metadata": {
        "id": "5cvGPe84BnGq"
      },
      "source": [
        "### Step 4: Model evaluation and tuning\n",
        "The error reported above is based on the training set. That is the same set on which the model was trained, hence it is NOT a good indicator of model performance.\n",
        "\n",
        "Goal of model training is not to do well only on the training set (seen examples). Goal is to \"learn the patterns from the training data\" such that model can \"do well on unseen examples\". That is why we created a separate test_set and did not feed those data points as part of model training. Hence the data points in the test_set are \"not seen\" by the model as yet."
      ]
    },
    {
      "cell_type": "code",
      "execution_count": 14,
      "metadata": {
        "colab": {
          "base_uri": "https://localhost:8080/"
        },
        "id": "QCGf_xWLxO2p",
        "outputId": "0beb979f-e9f4-4475-f42f-d2cacd38810e"
      },
      "outputs": [
        {
          "name": "stdout",
          "output_type": "stream",
          "text": [
            "TEST Root Mean Squared Error: 142.53\n"
          ]
        }
      ],
      "source": [
        "test_predictions = regr.predict(test_features)\n",
        "\n",
        "print(\"TEST Root Mean Squared Error: %.2f\"\n",
        "      % (mse(test_labels, test_predictions)**0.5))"
      ]
    },
    {
      "cell_type": "code",
      "execution_count": 21,
      "metadata": {
        "colab": {
          "base_uri": "https://localhost:8080/"
        },
        "id": "9ETwBu0OxO2q",
        "outputId": "5fb4e2d1-ec68-4dfb-8957-138cd8436bfa"
      },
      "outputs": [
        {
          "name": "stdout",
          "output_type": "stream",
          "text": [
            "1289\n"
          ]
        }
      ],
      "source": [
        "# We will learn more about RMSE eval metric in a following session\n",
        "\n",
        "# Below we are using the model to make a prediction\n",
        "# Try it yourself: replace 3.94 with any GPA you want to enter\n",
        "\n",
        "gpa = np.reshape([4.0], (1,1))\n",
        "SAT_pred = int(regr.predict(gpa))\n",
        "print(SAT_pred)"
      ]
    },
    {
      "cell_type": "markdown",
      "metadata": {
        "id": "IpP13sA9xO2q"
      },
      "source": [
        "Model Visualisation\n",
        "Linear Regression model trained on a \"single input feature\" (in this case \"GPA\") is a straight line"
      ]
    },
    {
      "cell_type": "code",
      "execution_count": 16,
      "metadata": {
        "id": "UjNAPtdWxO2q"
      },
      "outputs": [],
      "source": [
        "x = train_features\n",
        "w = regr.coef_\n",
        "b = regr.intercept_\n",
        "\n",
        "y = w*x + b\n",
        "# this can also be written as \"y = mx + c\", equation of a line"
      ]
    },
    {
      "cell_type": "code",
      "execution_count": 17,
      "metadata": {
        "colab": {
          "base_uri": "https://localhost:8080/",
          "height": 504
        },
        "id": "OzPgmI67xO2q",
        "outputId": "504763ca-d55b-49e2-8fcf-e4943073e765"
      },
      "outputs": [
        {
          "name": "stderr",
          "output_type": "stream",
          "text": [
            "/var/folders/hc/_rm2mjw14y9_r7933xkcw3p80000gn/T/ipykernel_20637/2686573392.py:2: UserWarning: color is redundantly defined by the 'color' keyword argument and the fmt string \"c\" (-> color=(0.0, 0.75, 0.75, 1)). The keyword argument will take precedence.\n",
            "  plt.plot(x, y, 'c', linewidth=2, color='red')\n"
          ]
        },
        {
          "data": {
            "image/png": "[encoded data removed]",
            "text/plain": [
              "<Figure size 640x480 with 1 Axes>"
            ]
          },
          "metadata": {},
          "output_type": "display_data"
        }
      ],
      "source": [
        "plt.scatter(data['GPA'], data['SAT Score'])\n",
        "plt.plot(x, y, 'c', linewidth=2, color='red')\n",
        "plt.xlabel('GPA')\n",
        "plt.ylabel('SAT Score')\n",
        "\n",
        "plt.show()"
      ]
    },
    {
      "cell_type": "markdown",
      "metadata": {
        "id": "cEyQuukqxO2q"
      },
      "source": [
        "The performance of this model does not seem spectacular, but this will be fixed in the next lesson"
      ]
    },
    {
      "attachments": {},
      "cell_type": "markdown",
      "metadata": {
        "id": "3QVdP3vXERIQ"
      },
      "source": [
        "## Congratulations on training your first ML model"
      ]
    }
  ],
  "metadata": {
    "colab": {
      "provenance": []
    },
    "kernelspec": {
      "display_name": "Python 3",
      "language": "python",
      "name": "python3"
    },
    "language_info": {
      "codemirror_mode": {
        "name": "ipython",
        "version": 3
      },
      "file_extension": ".py",
      "mimetype": "text/x-python",
      "name": "python",
      "nbconvert_exporter": "python",
      "pygments_lexer": "ipython3",
      "version": "3.11.1"
    },
    "orig_nbformat": 4
  },
  "nbformat": 4,
  "nbformat_minor": 0
}
