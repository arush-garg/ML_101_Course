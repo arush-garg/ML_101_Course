{
 "cells": [
  {
   "cell_type": "code",
   "execution_count": 81,
   "metadata": {},
   "outputs": [],
   "source": [
    "%config IPCompleter.greedy=True #Helps with auto-complete\n",
    "\n",
    "import numpy as np\n",
    "import pandas as pd\n",
    "\n",
    "data = pd.read_csv('data/grades_raw.csv')"
   ]
  },
  {
   "cell_type": "code",
   "execution_count": 82,
   "metadata": {},
   "outputs": [
    {
     "name": "stdout",
     "output_type": "stream",
     "text": [
      "  school sex  age address famsize Pstatus  Medu  Fedu     Mjob      Fjob  ...  \\\n",
      "0     GP   F   18       U     GT3       A     4     4  at_home   teacher  ...   \n",
      "1     GP   F   17       U     GT3       T     1     1  at_home     other  ...   \n",
      "2     GP   F   15       U     LE3       T     1     1  at_home     other  ...   \n",
      "3     GP   F   15       U     GT3       T     4     2   health  services  ...   \n",
      "4     GP   F   16       U     GT3       T     3     3    other     other  ...   \n",
      "\n",
      "  famrel freetime  goout  Dalc  Walc health absences  G1  G2  G3  \n",
      "0      4        3      4     1     1      3        6   5   6   6  \n",
      "1      5        3      3     1     1      3        4   5   5   6  \n",
      "2      4        3      2     2     3      3       10   7   8  10  \n",
      "3      3        2      2     1     1      5        2  15  14  15  \n",
      "4      4        3      2     1     2      5        4   6  10  10  \n",
      "\n",
      "[5 rows x 33 columns]\n"
     ]
    }
   ],
   "source": [
    "print(data[:5])"
   ]
  },
  {
   "cell_type": "code",
   "execution_count": 83,
   "metadata": {},
   "outputs": [
    {
     "data": {
      "text/html": [
       "<div>\n",
       "<style scoped>\n",
       "    .dataframe tbody tr th:only-of-type {\n",
       "        vertical-align: middle;\n",
       "    }\n",
       "\n",
       "    .dataframe tbody tr th {\n",
       "        vertical-align: top;\n",
       "    }\n",
       "\n",
       "    .dataframe thead th {\n",
       "        text-align: right;\n",
       "    }\n",
       "</style>\n",
       "<table border=\"1\" class=\"dataframe\">\n",
       "  <thead>\n",
       "    <tr style=\"text-align: right;\">\n",
       "      <th></th>\n",
       "      <th>sex</th>\n",
       "      <th>age</th>\n",
       "      <th>address</th>\n",
       "      <th>famsize</th>\n",
       "      <th>Pstatus</th>\n",
       "      <th>Medu</th>\n",
       "      <th>Fedu</th>\n",
       "      <th>Mjob</th>\n",
       "      <th>Fjob</th>\n",
       "      <th>reason</th>\n",
       "      <th>...</th>\n",
       "      <th>internet</th>\n",
       "      <th>romantic</th>\n",
       "      <th>famrel</th>\n",
       "      <th>freetime</th>\n",
       "      <th>goout</th>\n",
       "      <th>Dalc</th>\n",
       "      <th>Walc</th>\n",
       "      <th>health</th>\n",
       "      <th>absences</th>\n",
       "      <th>G3</th>\n",
       "    </tr>\n",
       "  </thead>\n",
       "  <tbody>\n",
       "    <tr>\n",
       "      <th>0</th>\n",
       "      <td>F</td>\n",
       "      <td>18</td>\n",
       "      <td>U</td>\n",
       "      <td>GT3</td>\n",
       "      <td>A</td>\n",
       "      <td>4</td>\n",
       "      <td>4</td>\n",
       "      <td>at_home</td>\n",
       "      <td>teacher</td>\n",
       "      <td>course</td>\n",
       "      <td>...</td>\n",
       "      <td>no</td>\n",
       "      <td>no</td>\n",
       "      <td>4</td>\n",
       "      <td>3</td>\n",
       "      <td>4</td>\n",
       "      <td>1</td>\n",
       "      <td>1</td>\n",
       "      <td>3</td>\n",
       "      <td>6</td>\n",
       "      <td>6</td>\n",
       "    </tr>\n",
       "    <tr>\n",
       "      <th>1</th>\n",
       "      <td>F</td>\n",
       "      <td>17</td>\n",
       "      <td>U</td>\n",
       "      <td>GT3</td>\n",
       "      <td>T</td>\n",
       "      <td>1</td>\n",
       "      <td>1</td>\n",
       "      <td>at_home</td>\n",
       "      <td>other</td>\n",
       "      <td>course</td>\n",
       "      <td>...</td>\n",
       "      <td>yes</td>\n",
       "      <td>no</td>\n",
       "      <td>5</td>\n",
       "      <td>3</td>\n",
       "      <td>3</td>\n",
       "      <td>1</td>\n",
       "      <td>1</td>\n",
       "      <td>3</td>\n",
       "      <td>4</td>\n",
       "      <td>6</td>\n",
       "    </tr>\n",
       "  </tbody>\n",
       "</table>\n",
       "<p>2 rows × 30 columns</p>\n",
       "</div>"
      ],
      "text/plain": [
       "  sex  age address famsize Pstatus  Medu  Fedu     Mjob     Fjob  reason  ...  \\\n",
       "0   F   18       U     GT3       A     4     4  at_home  teacher  course  ...   \n",
       "1   F   17       U     GT3       T     1     1  at_home    other  course  ...   \n",
       "\n",
       "  internet  romantic  famrel  freetime goout Dalc Walc health absences G3  \n",
       "0       no        no       4         3     4    1    1      3        6  6  \n",
       "1      yes        no       5         3     3    1    1      3        4  6  \n",
       "\n",
       "[2 rows x 30 columns]"
      ]
     },
     "execution_count": 83,
     "metadata": {},
     "output_type": "execute_result"
    }
   ],
   "source": [
    "data.drop('G1', axis=1, inplace=True)\n",
    "data.drop('G2', axis=1, inplace=True)\n",
    "data.drop('school', axis=1, inplace=True)\n",
    "data[:2]"
   ]
  },
  {
   "cell_type": "code",
   "execution_count": 84,
   "metadata": {},
   "outputs": [],
   "source": [
    "data['sex'].replace({'F':0, 'M':1}, inplace=True)"
   ]
  },
  {
   "cell_type": "code",
   "execution_count": 85,
   "metadata": {},
   "outputs": [],
   "source": [
    "data['address'].replace({'R':0, 'U':1}, inplace=True)"
   ]
  },
  {
   "cell_type": "code",
   "execution_count": 86,
   "metadata": {},
   "outputs": [],
   "source": [
    "data['famsize'].replace({'LE3':0, 'GT3':1}, inplace=True)"
   ]
  },
  {
   "cell_type": "code",
   "execution_count": 87,
   "metadata": {},
   "outputs": [],
   "source": [
    "data['Pstatus'].replace({'A':0, 'T':1}, inplace=True)"
   ]
  },
  {
   "cell_type": "code",
   "execution_count": 88,
   "metadata": {},
   "outputs": [
    {
     "name": "stdout",
     "output_type": "stream",
     "text": [
      "   at_home  health  other  services  teacher\n",
      "0     True   False  False     False    False\n",
      "1     True   False  False     False    False\n"
     ]
    }
   ],
   "source": [
    "mjob = pd.get_dummies(data['Mjob'])\n",
    "print(mjob[:2])"
   ]
  },
  {
   "cell_type": "code",
   "execution_count": 89,
   "metadata": {},
   "outputs": [],
   "source": [
    "#Renaming columns for clarity\n",
    "mjob.columns = ['m_at_home', 'm_health', 'm_other', 'm_services', 'm_teacher']"
   ]
  },
  {
   "cell_type": "code",
   "execution_count": 90,
   "metadata": {},
   "outputs": [
    {
     "name": "stdout",
     "output_type": "stream",
     "text": [
      "   sex  age  address  famsize  Pstatus  Medu  Fedu     Fjob  reason guardian  \\\n",
      "0    0   18        1        1        0     4     4  teacher  course   mother   \n",
      "1    0   17        1        1        1     1     1    other  course   father   \n",
      "\n",
      "   ...  Dalc  Walc  health absences G3 m_at_home m_health m_other m_services  \\\n",
      "0  ...     1     1       3        6  6      True    False   False      False   \n",
      "1  ...     1     1       3        4  6      True    False   False      False   \n",
      "\n",
      "  m_teacher  \n",
      "0     False  \n",
      "1     False  \n",
      "\n",
      "[2 rows x 34 columns]\n"
     ]
    }
   ],
   "source": [
    "data.drop(['Mjob'], axis=1, inplace=True)\n",
    "data = pd.concat([data, mjob], axis=1)\n",
    "print(data[:2])"
   ]
  },
  {
   "cell_type": "code",
   "execution_count": 91,
   "metadata": {},
   "outputs": [
    {
     "name": "stdout",
     "output_type": "stream",
     "text": [
      "   at_home  health  other  services  teacher\n",
      "0    False   False  False     False     True\n",
      "1    False   False   True     False    False\n"
     ]
    }
   ],
   "source": [
    "fjob = pd.get_dummies(data['Fjob'])\n",
    "print(fjob[:2])"
   ]
  },
  {
   "cell_type": "code",
   "execution_count": 92,
   "metadata": {},
   "outputs": [],
   "source": [
    "fjob.columns = ['f_at_home', 'f_health', 'f_other', 'f_services', 'f_teacher']"
   ]
  },
  {
   "cell_type": "code",
   "execution_count": 93,
   "metadata": {},
   "outputs": [
    {
     "name": "stdout",
     "output_type": "stream",
     "text": [
      "   sex  age  address  famsize  Pstatus  Medu  Fedu  reason guardian  \\\n",
      "0    0   18        1        1        0     4     4  course   mother   \n",
      "1    0   17        1        1        1     1     1  course   father   \n",
      "\n",
      "   traveltime  ...  m_at_home  m_health m_other m_services m_teacher  \\\n",
      "0           2  ...       True     False   False      False     False   \n",
      "1           1  ...       True     False   False      False     False   \n",
      "\n",
      "  f_at_home f_health f_other f_services f_teacher  \n",
      "0     False    False   False      False      True  \n",
      "1     False    False    True      False     False  \n",
      "\n",
      "[2 rows x 38 columns]\n"
     ]
    }
   ],
   "source": [
    "data.drop(['Fjob'], axis=1, inplace=True)\n",
    "data = pd.concat([data, fjob], axis=1)\n",
    "print(data[:2])"
   ]
  },
  {
   "cell_type": "code",
   "execution_count": 94,
   "metadata": {},
   "outputs": [
    {
     "name": "stdout",
     "output_type": "stream",
     "text": [
      "   course   home  other  reputation\n",
      "0    True  False  False       False\n",
      "1    True  False  False       False\n"
     ]
    }
   ],
   "source": [
    "reason = pd.get_dummies(data['reason'])\n",
    "print(reason[:2])"
   ]
  },
  {
   "cell_type": "code",
   "execution_count": 95,
   "metadata": {},
   "outputs": [
    {
     "name": "stdout",
     "output_type": "stream",
     "text": [
      "   sex  age  address  famsize  Pstatus  Medu  Fedu guardian  traveltime  \\\n",
      "0    0   18        1        1        0     4     4   mother           2   \n",
      "1    0   17        1        1        1     1     1   father           1   \n",
      "\n",
      "   studytime  ...  m_teacher f_at_home f_health f_other f_services f_teacher  \\\n",
      "0          2  ...      False     False    False   False      False      True   \n",
      "1          2  ...      False     False    False    True      False     False   \n",
      "\n",
      "  course   home  other  reputation  \n",
      "0   True  False  False       False  \n",
      "1   True  False  False       False  \n",
      "\n",
      "[2 rows x 41 columns]\n"
     ]
    }
   ],
   "source": [
    "data.drop(['reason'], axis=1, inplace=True)\n",
    "data = pd.concat([data, reason], axis=1)\n",
    "print(data[:2])"
   ]
  },
  {
   "cell_type": "code",
   "execution_count": 96,
   "metadata": {},
   "outputs": [
    {
     "name": "stdout",
     "output_type": "stream",
     "text": [
      "   father  mother  other\n",
      "0   False    True  False\n",
      "1    True   False  False\n"
     ]
    }
   ],
   "source": [
    "guardian = pd.get_dummies(data['guardian'])\n",
    "print(guardian[:2])"
   ]
  },
  {
   "cell_type": "code",
   "execution_count": 97,
   "metadata": {},
   "outputs": [
    {
     "name": "stdout",
     "output_type": "stream",
     "text": [
      "   sex  age  address  famsize  Pstatus  Medu  Fedu  traveltime  studytime  \\\n",
      "0    0   18        1        1        0     4     4           2          2   \n",
      "1    0   17        1        1        1     1     1           1          2   \n",
      "\n",
      "   failures  ... f_other f_services f_teacher course   home  other reputation  \\\n",
      "0         0  ...   False      False      True   True  False  False      False   \n",
      "1         0  ...    True      False     False   True  False  False      False   \n",
      "\n",
      "  father  mother  other  \n",
      "0  False    True  False  \n",
      "1   True   False  False  \n",
      "\n",
      "[2 rows x 43 columns]\n"
     ]
    }
   ],
   "source": [
    "data.drop(['guardian'], axis=1, inplace=True)\n",
    "data = pd.concat([data, guardian], axis=1)\n",
    "print(data[:2])"
   ]
  },
  {
   "cell_type": "code",
   "execution_count": 98,
   "metadata": {},
   "outputs": [],
   "source": [
    "data.replace({'no':0, 'yes':1}, inplace=True)"
   ]
  },
  {
   "cell_type": "code",
   "execution_count": 99,
   "metadata": {},
   "outputs": [
    {
     "name": "stdout",
     "output_type": "stream",
     "text": [
      "   sex  age  address  famsize  Pstatus  Medu  Fedu  traveltime  studytime  \\\n",
      "0    0   18        1        1        0     4     4           2          2   \n",
      "1    0   17        1        1        1     1     1           1          2   \n",
      "\n",
      "   failures  ...  f_other  f_services  f_teacher  course   home  other  \\\n",
      "0         0  ...    False       False       True    True  False  False   \n",
      "1         0  ...     True       False      False    True  False  False   \n",
      "\n",
      "   reputation  father  mother  other  \n",
      "0       False   False    True  False  \n",
      "1       False    True   False  False  \n",
      "\n",
      "[2 rows x 43 columns]\n"
     ]
    }
   ],
   "source": [
    "print(data[:2])"
   ]
  },
  {
   "cell_type": "code",
   "execution_count": 100,
   "metadata": {},
   "outputs": [],
   "source": [
    "data.replace({'False':0, 'True':1}, inplace=True)"
   ]
  },
  {
   "cell_type": "code",
   "execution_count": 101,
   "metadata": {},
   "outputs": [],
   "source": [
    "data.replace({False:0, True:1}, inplace=True)"
   ]
  },
  {
   "cell_type": "code",
   "execution_count": 102,
   "metadata": {},
   "outputs": [
    {
     "name": "stdout",
     "output_type": "stream",
     "text": [
      "<class 'pandas.core.frame.DataFrame'>\n",
      "RangeIndex: 395 entries, 0 to 394\n",
      "Data columns (total 43 columns):\n",
      " #   Column      Non-Null Count  Dtype\n",
      "---  ------      --------------  -----\n",
      " 0   sex         395 non-null    int64\n",
      " 1   age         395 non-null    int64\n",
      " 2   address     395 non-null    int64\n",
      " 3   famsize     395 non-null    int64\n",
      " 4   Pstatus     395 non-null    int64\n",
      " 5   Medu        395 non-null    int64\n",
      " 6   Fedu        395 non-null    int64\n",
      " 7   traveltime  395 non-null    int64\n",
      " 8   studytime   395 non-null    int64\n",
      " 9   failures    395 non-null    int64\n",
      " 10  schoolsup   395 non-null    int64\n",
      " 11  famsup      395 non-null    int64\n",
      " 12  paid        395 non-null    int64\n",
      " 13  activities  395 non-null    int64\n",
      " 14  nursery     395 non-null    int64\n",
      " 15  higher      395 non-null    int64\n",
      " 16  internet    395 non-null    int64\n",
      " 17  romantic    395 non-null    int64\n",
      " 18  famrel      395 non-null    int64\n",
      " 19  freetime    395 non-null    int64\n",
      " 20  goout       395 non-null    int64\n",
      " 21  Dalc        395 non-null    int64\n",
      " 22  Walc        395 non-null    int64\n",
      " 23  health      395 non-null    int64\n",
      " 24  absences    395 non-null    int64\n",
      " 25  G3          395 non-null    int64\n",
      " 26  m_at_home   395 non-null    int64\n",
      " 27  m_health    395 non-null    int64\n",
      " 28  m_other     395 non-null    int64\n",
      " 29  m_services  395 non-null    int64\n",
      " 30  m_teacher   395 non-null    int64\n",
      " 31  f_at_home   395 non-null    int64\n",
      " 32  f_health    395 non-null    int64\n",
      " 33  f_other     395 non-null    int64\n",
      " 34  f_services  395 non-null    int64\n",
      " 35  f_teacher   395 non-null    int64\n",
      " 36  course      395 non-null    int64\n",
      " 37  home        395 non-null    int64\n",
      " 38  other       395 non-null    int64\n",
      " 39  reputation  395 non-null    int64\n",
      " 40  father      395 non-null    int64\n",
      " 41  mother      395 non-null    int64\n",
      " 42  other       395 non-null    int64\n",
      "dtypes: int64(43)\n",
      "memory usage: 132.8 KB\n",
      "None\n"
     ]
    }
   ],
   "source": [
    "print(data.info())"
   ]
  },
  {
   "cell_type": "code",
   "execution_count": null,
   "metadata": {},
   "outputs": [],
   "source": [
    "#Saving to csv\n",
    "\n",
    "data.to_csv('data/grades_clean.csv', index=False)"
   ]
  }
 ],
 "metadata": {
  "kernelspec": {
   "display_name": "Python 3",
   "language": "python",
   "name": "python3"
  },
  "language_info": {
   "codemirror_mode": {
    "name": "ipython",
    "version": 3
   },
   "file_extension": ".py",
   "mimetype": "text/x-python",
   "name": "python",
   "nbconvert_exporter": "python",
   "pygments_lexer": "ipython3",
   "version": "3.11.1"
  },
  "orig_nbformat": 4
 },
 "nbformat": 4,
 "nbformat_minor": 2
}
