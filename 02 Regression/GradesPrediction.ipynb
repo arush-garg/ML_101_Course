{
 "cells": [
  {
   "cell_type": "code",
   "execution_count": 1,
   "metadata": {},
   "outputs": [],
   "source": [
    "%config IPCompleter.greedy=True\n",
    "\n",
    "import numpy as np\n",
    "import pandas as pd\n",
    "\n",
    "data = pd.read_csv('data/grades_clean.csv')"
   ]
  },
  {
   "cell_type": "code",
   "execution_count": 2,
   "metadata": {},
   "outputs": [
    {
     "name": "stdout",
     "output_type": "stream",
     "text": [
      "   sex  age  address  famsize  Pstatus  Medu  Fedu  traveltime  studytime  \\\n",
      "0    0   18        1        1        0     4     4           2          2   \n",
      "1    0   17        1        1        1     1     1           1          2   \n",
      "2    0   15        1        0        1     1     1           1          2   \n",
      "3    0   15        1        1        1     4     2           1          3   \n",
      "4    0   16        1        1        1     3     3           1          2   \n",
      "\n",
      "   failures  ...  f_other  f_services  f_teacher  course  home  other  \\\n",
      "0         0  ...        0           0          1       1     0      0   \n",
      "1         0  ...        1           0          0       1     0      0   \n",
      "2         3  ...        1           0          0       0     0      1   \n",
      "3         0  ...        0           1          0       0     1      0   \n",
      "4         0  ...        1           0          0       0     1      0   \n",
      "\n",
      "   reputation  father  mother  other.1  \n",
      "0           0       0       1        0  \n",
      "1           0       1       0        0  \n",
      "2           0       0       1        0  \n",
      "3           0       0       1        0  \n",
      "4           0       1       0        0  \n",
      "\n",
      "[5 rows x 43 columns]\n"
     ]
    }
   ],
   "source": [
    "print(data[:5])"
   ]
  },
  {
   "cell_type": "code",
   "execution_count": 4,
   "metadata": {},
   "outputs": [
    {
     "name": "stdout",
     "output_type": "stream",
     "text": [
      "<class 'pandas.core.frame.DataFrame'>\n",
      "RangeIndex: 395 entries, 0 to 394\n",
      "Data columns (total 43 columns):\n",
      " #   Column      Non-Null Count  Dtype\n",
      "---  ------      --------------  -----\n",
      " 0   sex         395 non-null    int64\n",
      " 1   age         395 non-null    int64\n",
      " 2   address     395 non-null    int64\n",
      " 3   famsize     395 non-null    int64\n",
      " 4   Pstatus     395 non-null    int64\n",
      " 5   Medu        395 non-null    int64\n",
      " 6   Fedu        395 non-null    int64\n",
      " 7   traveltime  395 non-null    int64\n",
      " 8   studytime   395 non-null    int64\n",
      " 9   failures    395 non-null    int64\n",
      " 10  schoolsup   395 non-null    int64\n",
      " 11  famsup      395 non-null    int64\n",
      " 12  paid        395 non-null    int64\n",
      " 13  activities  395 non-null    int64\n",
      " 14  nursery     395 non-null    int64\n",
      " 15  higher      395 non-null    int64\n",
      " 16  internet    395 non-null    int64\n",
      " 17  romantic    395 non-null    int64\n",
      " 18  famrel      395 non-null    int64\n",
      " 19  freetime    395 non-null    int64\n",
      " 20  goout       395 non-null    int64\n",
      " 21  Dalc        395 non-null    int64\n",
      " 22  Walc        395 non-null    int64\n",
      " 23  health      395 non-null    int64\n",
      " 24  absences    395 non-null    int64\n",
      " 25  G3          395 non-null    int64\n",
      " 26  m_at_home   395 non-null    int64\n",
      " 27  m_health    395 non-null    int64\n",
      " 28  m_other     395 non-null    int64\n",
      " 29  m_services  395 non-null    int64\n",
      " 30  m_teacher   395 non-null    int64\n",
      " 31  f_at_home   395 non-null    int64\n",
      " 32  f_health    395 non-null    int64\n",
      " 33  f_other     395 non-null    int64\n",
      " 34  f_services  395 non-null    int64\n",
      " 35  f_teacher   395 non-null    int64\n",
      " 36  course      395 non-null    int64\n",
      " 37  home        395 non-null    int64\n",
      " 38  other       395 non-null    int64\n",
      " 39  reputation  395 non-null    int64\n",
      " 40  father      395 non-null    int64\n",
      " 41  mother      395 non-null    int64\n",
      " 42  other.1     395 non-null    int64\n",
      "dtypes: int64(43)\n",
      "memory usage: 132.8 KB\n",
      "None\n"
     ]
    }
   ],
   "source": [
    "print(data.info())"
   ]
  },
  {
   "cell_type": "code",
   "execution_count": 7,
   "metadata": {},
   "outputs": [
    {
     "name": "stdout",
     "output_type": "stream",
     "text": [
      "   sex  age  address  famsize  Pstatus  Medu  Fedu  traveltime  studytime  \\\n",
      "0    0   18        1        1        0     4     4           2          2   \n",
      "1    0   17        1        1        1     1     1           1          2   \n",
      "\n",
      "   failures  ...  f_other  f_services  f_teacher  course  home  other  \\\n",
      "0         0  ...        0           0          1       1     0      0   \n",
      "1         0  ...        1           0          0       1     0      0   \n",
      "\n",
      "   reputation  father  mother  other.1  \n",
      "0           0       0       1        0  \n",
      "1           0       1       0        0  \n",
      "\n",
      "[2 rows x 42 columns]\n",
      "(395, 42)\n"
     ]
    }
   ],
   "source": [
    "features = data.drop('G3', axis=1)\n",
    "print(features[:2])\n",
    "print(features.shape)"
   ]
  },
  {
   "cell_type": "code",
   "execution_count": 8,
   "metadata": {},
   "outputs": [
    {
     "name": "stdout",
     "output_type": "stream",
     "text": [
      "0    6\n",
      "1    6\n",
      "Name: G3, dtype: int64\n",
      "(395,)\n"
     ]
    }
   ],
   "source": [
    "labels = data['G3']\n",
    "print(labels[:2])\n",
    "print(labels.shape)"
   ]
  },
  {
   "cell_type": "code",
   "execution_count": 11,
   "metadata": {},
   "outputs": [
    {
     "data": {
      "text/plain": [
       "<Axes: >"
      ]
     },
     "execution_count": 11,
     "metadata": {},
     "output_type": "execute_result"
    },
    {
     "data": {
      "image/png": "[encoded data removed]",
      "text/plain": [
       "<Figure size 640x480 with 1 Axes>"
      ]
     },
     "metadata": {},
     "output_type": "display_data"
    }
   ],
   "source": [
    "import matplotlib.pyplot as plt\n",
    "labels.hist(width=5)"
   ]
  },
  {
   "cell_type": "code",
   "execution_count": 12,
   "metadata": {},
   "outputs": [
    {
     "name": "stdout",
     "output_type": "stream",
     "text": [
      "(316, 42)\n",
      "(79, 42)\n",
      "(316,)\n",
      "(79,)\n"
     ]
    }
   ],
   "source": [
    "import sklearn.model_selection as ms\n",
    "\n",
    "train_features, test_features, train_labels, test_labels = ms.train_test_split(features, labels, test_size=0.2)\n",
    "print(train_features.shape)\n",
    "print(test_features.shape)\n",
    "print(train_labels.shape)\n",
    "print(test_labels.shape)"
   ]
  },
  {
   "attachments": {},
   "cell_type": "markdown",
   "metadata": {},
   "source": [
    "Training the model"
   ]
  },
  {
   "cell_type": "code",
   "execution_count": 13,
   "metadata": {},
   "outputs": [],
   "source": [
    "import sklearn.linear_model as lm\n",
    "\n",
    "regr = lm.LinearRegression()\n",
    "\n",
    "regr = regr.fit(train_features, train_labels)"
   ]
  },
  {
   "attachments": {},
   "cell_type": "markdown",
   "metadata": {},
   "source": [
    "Evaluating the model"
   ]
  },
  {
   "cell_type": "code",
   "execution_count": 14,
   "metadata": {},
   "outputs": [
    {
     "name": "stdout",
     "output_type": "stream",
     "text": [
      "TRAIN Root Mean Squared Error: 3.96\n"
     ]
    }
   ],
   "source": [
    "from sklearn.metrics import mean_squared_error as mse\n",
    "\n",
    "train_predictions = regr.predict(train_features)\n",
    "\n",
    "print(\"TRAIN Root Mean Squared Error: %.2f\" % \n",
    "      (mse(train_labels, train_predictions)**0.5))"
   ]
  },
  {
   "cell_type": "code",
   "execution_count": 15,
   "metadata": {},
   "outputs": [
    {
     "name": "stdout",
     "output_type": "stream",
     "text": [
      "TEST Root Mean Squared Error: 3.95\n"
     ]
    }
   ],
   "source": [
    "test_predictions = regr.predict(test_features)\n",
    "\n",
    "print(\"TEST Root Mean Squared Error: %.2f\"\n",
    "      % (mse(test_labels, test_predictions)**0.5))"
   ]
  }
 ],
 "metadata": {
  "kernelspec": {
   "display_name": "Python 3",
   "language": "python",
   "name": "python3"
  },
  "language_info": {
   "codemirror_mode": {
    "name": "ipython",
    "version": 3
   },
   "file_extension": ".py",
   "mimetype": "text/x-python",
   "name": "python",
   "nbconvert_exporter": "python",
   "pygments_lexer": "ipython3",
   "version": "3.11.1"
  },
  "orig_nbformat": 4
 },
 "nbformat": 4,
 "nbformat_minor": 2
}
