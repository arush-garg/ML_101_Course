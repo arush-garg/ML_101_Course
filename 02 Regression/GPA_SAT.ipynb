{
 "cells": [
  {
   "attachments": {},
   "cell_type": "markdown",
   "metadata": {},
   "source": [
    "# Hands-on introduction to ML training\n",
    "In this notebook we will take the same problem as last lesson and try to improve the accuracy.\n",
    "\n",
    "In this lesson, we will also learn about a technique called feature engineering.\n",
    "\n",
    "### Step 1: Load and explore data\n",
    "The first step is figuring out the data source. In this case we will use a pre-existing dataset. We will:\n",
    "1. Create a folder 'data'\n",
    "2. Download the file from public github repo using python package \"requests\" and save the SAT_GPA.csv file in the data folder."
   ]
  },
  {
   "cell_type": "code",
   "execution_count": 33,
   "metadata": {},
   "outputs": [
    {
     "name": "stdout",
     "output_type": "stream",
     "text": [
      "[Errno 17] File exists: 'data'\n"
     ]
    }
   ],
   "source": [
    "%config IPCompleter.greedy=True #Helps with auto-complete\n",
    "\n",
    "import numpy as np\n",
    "import pandas as pd\n",
    "import os\n",
    "\n",
    "try:\n",
    "    os.mkdir('data')\n",
    "except OSError as error:\n",
    "    print(error)\n",
    "\n",
    "import requests, csv\n",
    "\n",
    "url = 'https://raw.githubusercontent.com/techno-nerd/ML_Course/main/02%20Regression/data/SAT_GPA.csv'\n",
    "r = requests.get(url)\n",
    "with open('data/SAT_GPA.csv', 'w') as f:\n",
    "  writer = csv.writer(f)\n",
    "  for line in r.iter_lines():\n",
    "    writer.writerow(line.decode('utf-8').split(','))"
   ]
  },
  {
   "cell_type": "code",
   "execution_count": 34,
   "metadata": {},
   "outputs": [],
   "source": [
    "data = pd.read_csv('data/SAT_GPA.csv')"
   ]
  },
  {
   "attachments": {},
   "cell_type": "markdown",
   "metadata": {},
   "source": [
    "Explore the data"
   ]
  },
  {
   "cell_type": "code",
   "execution_count": 35,
   "metadata": {},
   "outputs": [
    {
     "name": "stdout",
     "output_type": "stream",
     "text": [
      "<class 'pandas.core.frame.DataFrame'>\n",
      "RangeIndex: 181 entries, 0 to 180\n",
      "Data columns (total 2 columns):\n",
      " #   Column     Non-Null Count  Dtype  \n",
      "---  ------     --------------  -----  \n",
      " 0   SAT Score  181 non-null    int64  \n",
      " 1   GPA        181 non-null    float64\n",
      "dtypes: float64(1), int64(1)\n",
      "memory usage: 3.0 KB\n",
      "None\n"
     ]
    }
   ],
   "source": [
    "print(data.info())"
   ]
  },
  {
   "cell_type": "code",
   "execution_count": 36,
   "metadata": {},
   "outputs": [
    {
     "name": "stdout",
     "output_type": "stream",
     "text": [
      "   SAT Score  GPA\n",
      "0       1600  4.0\n",
      "1       1593  4.0\n",
      "2       1587  4.0\n",
      "3       1580  4.0\n",
      "4       1573  4.0\n"
     ]
    }
   ],
   "source": [
    "print(data[:5])"
   ]
  },
  {
   "attachments": {},
   "cell_type": "markdown",
   "metadata": {},
   "source": [
    "Visualise the Data"
   ]
  },
  {
   "cell_type": "code",
   "execution_count": 37,
   "metadata": {},
   "outputs": [
    {
     "data": {
      "image/png": "[encoded data removed]",
      "text/plain": [
       "<Figure size 640x480 with 1 Axes>"
      ]
     },
     "metadata": {},
     "output_type": "display_data"
    }
   ],
   "source": [
    "%matplotlib inline\n",
    "import matplotlib.pyplot as plt\n",
    "\n",
    "plt.scatter(data['GPA'], data['SAT Score'])\n",
    "plt.show()"
   ]
  },
  {
   "attachments": {},
   "cell_type": "markdown",
   "metadata": {},
   "source": [
    "Since the data looks polynomial, we will add two new features"
   ]
  },
  {
   "attachments": {},
   "cell_type": "markdown",
   "metadata": {},
   "source": [
    "### Step 2: Data preparation and feature engineering\n",
    "\n",
    "Now, we are going to add the features GPA<sup>2</sup> and GPA<sup>3</sup>\n",
    "\n",
    "Then, we will split the data the same way as last time:\n",
    "1. Split the data (181 rows) into training set (80%) and test set (20%)\n",
    "2. Separate the input features (\"GPA\") from target variable (\"SAT Score\")"
   ]
  },
  {
   "cell_type": "code",
   "execution_count": 38,
   "metadata": {},
   "outputs": [
    {
     "name": "stdout",
     "output_type": "stream",
     "text": [
      "0    16.0\n",
      "1    16.0\n",
      "Name: GPA, dtype: float64\n"
     ]
    }
   ],
   "source": [
    "#New feature: GPA squared\n",
    "\n",
    "gpa2 = data['GPA']**2\n",
    "print(gpa2[:2])"
   ]
  },
  {
   "cell_type": "code",
   "execution_count": 39,
   "metadata": {},
   "outputs": [
    {
     "name": "stdout",
     "output_type": "stream",
     "text": [
      "0    64.0\n",
      "1    64.0\n",
      "Name: GPA, dtype: float64\n"
     ]
    }
   ],
   "source": [
    "#New feature: GPA cubed\n",
    "\n",
    "gpa3 = data['GPA']**3\n",
    "print(gpa3[:2])"
   ]
  },
  {
   "cell_type": "code",
   "execution_count": 40,
   "metadata": {},
   "outputs": [
    {
     "name": "stdout",
     "output_type": "stream",
     "text": [
      "      0    1     2     3\n",
      "0  1600  4.0  16.0  64.0\n",
      "1  1593  4.0  16.0  64.0\n"
     ]
    }
   ],
   "source": [
    "data = pd.concat([data, gpa2, gpa3], axis=1, ignore_index=True)\n",
    "print(data[:2])"
   ]
  },
  {
   "cell_type": "code",
   "execution_count": 41,
   "metadata": {},
   "outputs": [
    {
     "name": "stdout",
     "output_type": "stream",
     "text": [
      "    SAT  GPA  GPA_Sqr  GPA_Cb\n",
      "0  1600  4.0     16.0    64.0\n",
      "1  1593  4.0     16.0    64.0\n"
     ]
    }
   ],
   "source": [
    "data.columns = ['SAT', 'GPA', 'GPA_Sqr', 'GPA_Cb']\n",
    "print(data[:2])"
   ]
  },
  {
   "cell_type": "code",
   "execution_count": 42,
   "metadata": {},
   "outputs": [
    {
     "name": "stdout",
     "output_type": "stream",
     "text": [
      "(144, 3)\n",
      "(37, 3)\n",
      "(144,)\n",
      "(37,)\n"
     ]
    }
   ],
   "source": [
    "#Split the data\n",
    "import sklearn.model_selection as ms\n",
    "features = data.drop('SAT', axis=1)\n",
    "\n",
    "train_features, test_features, train_labels, test_labels = ms.train_test_split(features, data['SAT'], test_size=0.2)\n",
    "print(train_features.shape)\n",
    "print(test_features.shape)\n",
    "print(train_labels.shape)\n",
    "print(test_labels.shape)"
   ]
  },
  {
   "attachments": {},
   "cell_type": "markdown",
   "metadata": {},
   "source": [
    "Since we have 3 features, the array does not have to be reshaped."
   ]
  },
  {
   "attachments": {},
   "cell_type": "markdown",
   "metadata": {},
   "source": [
    "### Step 3: Model Selection and Training\n",
    "\n",
    "We will use one of the simplest ML model for this problem: Linear Regression. \n",
    "\n",
    "As explained previously in this video, having more than 1 feature be learnt as a <b>multi-dimensional hyperplane</b>."
   ]
  },
  {
   "cell_type": "code",
   "execution_count": 43,
   "metadata": {},
   "outputs": [],
   "source": [
    "#Train the model\n",
    "from sklearn import linear_model as lm\n",
    "\n",
    "regr = lm.LinearRegression()\n",
    "regr = regr.fit(train_features, train_labels)"
   ]
  },
  {
   "attachments": {},
   "cell_type": "markdown",
   "metadata": {},
   "source": [
    "That's it! Model Trained!"
   ]
  },
  {
   "cell_type": "code",
   "execution_count": 44,
   "metadata": {},
   "outputs": [
    {
     "name": "stdout",
     "output_type": "stream",
     "text": [
      "TRAIN Root Mean Squared Error: 82.73\n"
     ]
    }
   ],
   "source": [
    "#Evaluate the performance\n",
    "from sklearn.metrics import mean_squared_error as mse\n",
    "\n",
    "train_predictions = regr.predict(train_features)\n",
    "\n",
    "print(\"TRAIN Root Mean Squared Error: %.2f\" % \n",
    "      (mse(train_labels, train_predictions)**0.5))"
   ]
  },
  {
   "attachments": {},
   "cell_type": "markdown",
   "metadata": {},
   "source": [
    "### Step 4: Model evaluation and tuning\n",
    "The error reported above is based on the training set, which is NOT a good indicator of model performance.\n",
    "\n",
    "Goal of model training to learn from the data and do well on unseen values. This is where the Test set will come in."
   ]
  },
  {
   "cell_type": "code",
   "execution_count": 45,
   "metadata": {},
   "outputs": [
    {
     "name": "stdout",
     "output_type": "stream",
     "text": [
      "TEST Root Mean Squared Error: 70.33\n"
     ]
    }
   ],
   "source": [
    "test_predictions = regr.predict(test_features)\n",
    "\n",
    "print(\"TEST Root Mean Squared Error: %.2f\"\n",
    "      % (mse(test_labels, test_predictions)**0.5))"
   ]
  },
  {
   "attachments": {},
   "cell_type": "markdown",
   "metadata": {},
   "source": [
    "This error seems acceptable. If we continue, we risk overfitting the model"
   ]
  },
  {
   "cell_type": "code",
   "execution_count": 46,
   "metadata": {},
   "outputs": [
    {
     "name": "stdout",
     "output_type": "stream",
     "text": [
      "1355\n"
     ]
    },
    {
     "name": "stderr",
     "output_type": "stream",
     "text": [
      "/Library/Frameworks/Python.framework/Versions/3.11/lib/python3.11/site-packages/sklearn/base.py:464: UserWarning: X does not have valid feature names, but LinearRegression was fitted with feature names\n",
      "  warnings.warn(\n"
     ]
    }
   ],
   "source": [
    "#This means your final result can be +- 110\n",
    "\n",
    "#Try it yourself (replace 3.94 with your GPA):\n",
    "\n",
    "gpa = 3.94\n",
    "user_features = [[gpa, gpa**2, gpa**3]]\n",
    "SAT_pred = int(regr.predict(user_features))\n",
    "print(SAT_pred)"
   ]
  },
  {
   "cell_type": "code",
   "execution_count": 47,
   "metadata": {},
   "outputs": [],
   "source": [
    "pred = regr.predict(features)"
   ]
  },
  {
   "attachments": {},
   "cell_type": "markdown",
   "metadata": {},
   "source": [
    "## Model Visualisation\n",
    "\n",
    "Instead of dealing with the coefficients and creating the formula, we are going to simply plot the predictions vs the actual."
   ]
  },
  {
   "cell_type": "code",
   "execution_count": 48,
   "metadata": {},
   "outputs": [
    {
     "data": {
      "image/png": "[encoded data removed]",
      "text/plain": [
       "<Figure size 640x480 with 1 Axes>"
      ]
     },
     "metadata": {},
     "output_type": "display_data"
    }
   ],
   "source": [
    "plt.scatter(data['GPA'], data['SAT'], color='red')\n",
    "plt.scatter(data['GPA'], pred, color='black')\n",
    "plt.xlabel('GPA')\n",
    "plt.ylabel('SAT Score')\n",
    "\n",
    "plt.show()\n",
    "\n",
    "#Black line plots the predictions\n",
    "#Red line shows the actual values"
   ]
  },
  {
   "attachments": {},
   "cell_type": "markdown",
   "metadata": {},
   "source": [
    "For comparison, here is the performance from the model trained last lesson:"
   ]
  },
  {
   "attachments": {},
   "cell_type": "markdown",
   "metadata": {},
   "source": [
    "![Output Graph](https://raw.githubusercontent.com/techno-nerd/ML_Course/main/02%20Regression/resources/ModelPerf.png)"
   ]
  }
 ],
 "metadata": {
  "kernelspec": {
   "display_name": "Python 3",
   "language": "python",
   "name": "python3"
  },
  "language_info": {
   "codemirror_mode": {
    "name": "ipython",
    "version": 3
   },
   "file_extension": ".py",
   "mimetype": "text/x-python",
   "name": "python",
   "nbconvert_exporter": "python",
   "pygments_lexer": "ipython3",
   "version": "3.11.1"
  },
  "orig_nbformat": 4
 },
 "nbformat": 4,
 "nbformat_minor": 2
}
