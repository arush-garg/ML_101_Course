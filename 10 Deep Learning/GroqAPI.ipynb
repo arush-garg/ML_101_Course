{
 "cells": [
  {
   "attachments": {},
   "cell_type": "markdown",
   "metadata": {},
   "source": [
    "# Using Large Language Models\n",
    "In this lesson, we will learn how to use `llama-3.1-70b-versatile`, a Large Language Model that we can call and use using an API Key.\n",
    "\n",
    "To set this key as an environment variable:\n",
    "\n",
    "Replace the `GROQ_API_KEY` with your Groq API key. You can get one [here](https://console.groq.com/keys)"
   ]
  },
  {
   "cell_type": "code",
   "execution_count": null,
   "metadata": {},
   "outputs": [],
   "source": [
    "import os\n",
    "os.environ['GROQ_API_KEY'] = 'INSERT KEY HERE'"
   ]
  },
  {
   "cell_type": "code",
   "execution_count": 2,
   "metadata": {},
   "outputs": [
    {
     "name": "stdout",
     "output_type": "stream",
     "text": [
      "\n",
      "\u001b[1m[\u001b[0m\u001b[34;49mnotice\u001b[0m\u001b[1;39;49m]\u001b[0m\u001b[39;49m A new release of pip is available: \u001b[0m\u001b[31;49m24.2\u001b[0m\u001b[39;49m -> \u001b[0m\u001b[32;49m24.3.1\u001b[0m\n",
      "\u001b[1m[\u001b[0m\u001b[34;49mnotice\u001b[0m\u001b[1;39;49m]\u001b[0m\u001b[39;49m To update, run: \u001b[0m\u001b[32;49mpip install --upgrade pip\u001b[0m\n",
      "Note: you may need to restart the kernel to use updated packages.\n"
     ]
    }
   ],
   "source": [
    "%pip install -q groq"
   ]
  },
  {
   "cell_type": "code",
   "execution_count": 3,
   "metadata": {},
   "outputs": [],
   "source": [
    "from groq import Groq\n",
    "\n",
    "client = Groq()"
   ]
  },
  {
   "attachments": {},
   "cell_type": "markdown",
   "metadata": {},
   "source": [
    "### Getting response\n",
    "\n",
    "To get a response, we use Groq's python library. We need to specify the model, prompt and temperature (randomness of the model)"
   ]
  },
  {
   "cell_type": "code",
   "execution_count": 7,
   "metadata": {},
   "outputs": [],
   "source": [
    "completion = client.chat.completions.create(\n",
    "    model=\"llama-3.1-70b-versatile\",\n",
    "    messages=[\n",
    "        {\n",
    "            \"role\": \"user\",\n",
    "            \"content\": \"Briefly explain how LLMs work\"\n",
    "        }\n",
    "    ],\n",
    "    temperature=1,\n",
    "    stream=False,\n",
    "    stop=None,\n",
    ")"
   ]
  },
  {
   "cell_type": "code",
   "execution_count": 8,
   "metadata": {},
   "outputs": [
    {
     "data": {
      "text/markdown": [
       "Large Language Models (LLMs) are a type of artificial intelligence (AI) that use complex algorithms to process and understand human language. Here's a simplified overview of how they work:\n",
       "\n",
       "1. **Training**: LLMs are trained on massive amounts of text data, often from the internet, books, or other sources. This data is used to teach the model patterns and relationships in language.\n",
       "2. **Neural Network Architecture**: LLMs use a type of neural network called a transformer. The transformer architecture consists of multiple layers that process input text, attention mechanisms that help focus on specific parts of the text, and output layers that generate text.\n",
       "3. **Tokenization**: When text is input into an LLM, it's broken down into individual tokens, such as words or subwords (smaller units of words). These tokens are then embedded into vectors, which are numerical representations of the tokens.\n",
       "4. **Contextual Understanding**: As the tokens are processed, the LLM uses self-attention mechanisms to understand the context and relationships between them. This helps the model to recognize patterns, such as grammar, syntax, and semantics.\n",
       "5. **Prediction and Generation**: The LLM then uses this contextual understanding to predict the next token, word, or sequence of words. This process is repeated to generate text that's coherent and natural-sounding.\n",
       "6. **Reinforcement Learning**: Many LLMs are fine-tuned using reinforcement learning, where the model is rewarded for generating text that's deemed to be better quality or more coherent.\n",
       "\n",
       "By processing vast amounts of text data and using complex algorithms, LLMs can generate human-like language, answer questions, summarize text, and even create original content. However, it's essential to note that LLMs are not truly \"understanding\" language in the way humans do; they're simply identifying patterns and generating responses based on statistical probabilities."
      ],
      "text/plain": [
       "<IPython.core.display.Markdown object>"
      ]
     },
     "metadata": {},
     "output_type": "display_data"
    }
   ],
   "source": [
    "from IPython.display import display, Markdown\n",
    "\n",
    "display(Markdown(completion.choices[0].message.content))"
   ]
  },
  {
   "attachments": {},
   "cell_type": "markdown",
   "metadata": {},
   "source": [
    "### Loading Data\n",
    "\n",
    "The API key is much more powerful than the GUI available online. Here, I am loading an assessment task sheet, and then I will get ChatGPT to do the assessment for me."
   ]
  },
  {
   "cell_type": "code",
   "execution_count": 9,
   "metadata": {},
   "outputs": [
    {
     "name": "stdout",
     "output_type": "stream",
     "text": [
      "\n",
      "\u001b[1m[\u001b[0m\u001b[34;49mnotice\u001b[0m\u001b[1;39;49m]\u001b[0m\u001b[39;49m A new release of pip is available: \u001b[0m\u001b[31;49m24.2\u001b[0m\u001b[39;49m -> \u001b[0m\u001b[32;49m24.3.1\u001b[0m\n",
      "\u001b[1m[\u001b[0m\u001b[34;49mnotice\u001b[0m\u001b[1;39;49m]\u001b[0m\u001b[39;49m To update, run: \u001b[0m\u001b[32;49mpip install --upgrade pip\u001b[0m\n",
      "Note: you may need to restart the kernel to use updated packages.\n"
     ]
    }
   ],
   "source": [
    "%pip install -q pdfplumber"
   ]
  },
  {
   "cell_type": "code",
   "execution_count": 10,
   "metadata": {},
   "outputs": [],
   "source": [
    "import pdfplumber\n",
    "\n",
    "pdf_file_path = 'data/task_sheet.pdf'\n",
    "with pdfplumber.open(pdf_file_path) as pdf:\n",
    "    task_sheet = \"\"\n",
    "    for page in pdf.pages:\n",
    "        task_sheet += page.extract_text()\n"
   ]
  },
  {
   "cell_type": "code",
   "execution_count": 11,
   "metadata": {},
   "outputs": [
    {
     "name": "stdout",
     "output_type": "stream",
     "text": [
      "Student's Name First: Family:\n",
      "Title of Assessment Investigating Resistance Criteria assessed: B & C\n",
      "Date Due Teacher\n",
      "Criterion B: Inquiring and designing Level awarded …………….\n",
      "Strand Level 1/2 Level 3/4 Level 5/6 Level 7/8\n",
      "state a problem or question outline a problem or describe a problem or explain a problem or\n",
      "to be tested by a scientific question to be tested by a question to be tested by a question to be tested by a\n",
      "Problem\n",
      "investigation scientific investigation scientific investigation scientific investigation\n",
      "formulate and explain a\n",
      "formulate a testable formulate and explain a\n",
      "outline a testable testable hypothesis using\n",
      "hypothesis using scientific testable hypothesis using\n",
      "Hypothesis hypothesis correct scientific\n",
      "reasoning scientific reasoning\n",
      "reasoning\n",
      "describe how to\n",
      "outline how to manipulate explain how to manipulate\n",
      "manipulate the variables,\n",
      "the variables, and outline the variables, and explain\n",
      "outline the variables and describe how\n",
      "Variables how relevant data will be how sufficient, relevant\n",
      "sufficient, relevant data\n",
      "collected data will be collected\n",
      "will be collected\n",
      "design a logical,\n",
      "design a complete and\n",
      "Design design a safe method in complete and safe\n",
      "design a method, with safe method in which he or\n",
      "which he or she selects method in which he or she\n",
      "scientific limited success she selects appropriate\n",
      "materials and equipment. selects appropriate\n",
      "investigations materials and equipment.\n",
      "materials and equipment.\n",
      "Criterion C: Processing and evaluation Level awarded ………………\n",
      "Strand Level 1/2 Level 3/4 Level 5/6 Level 7/8\n",
      "Data correctly collect, organize correctly collect,\n",
      "collect and present data correctly collect and\n",
      "and present data in organize, transform and\n",
      "presentation in numerical and/or visual present data in numerical\n",
      "numerical and/or visual present data in numerical\n",
      "and forms and/or visual forms\n",
      "forms and/ or visual forms\n",
      "processing\n",
      "Data accurately interpret data\n",
      "interpret data accurately interpret data accurately interpret data and explain results using\n",
      "interpretation and explain results using\n",
      "and explain results correct scientific\n",
      "and scientific reasoning\n",
      "reasoning\n",
      "conclusion\n",
      "state the validity of a outline the validity of a discuss the validity of a evaluate the validity of a\n",
      "hypothesis based on the hypothesis based on the hypothesis based on the hypothesis based on the\n",
      "Validity of the\n",
      "outcome of a scientific outcome of a scientific outcome of a scientific outcome of a scientific\n",
      "hypothesis investigation investigation investigation investigation\n",
      "state the validity of the outline the validity of the discuss the validity of the evaluate the validity of the\n",
      "method based on the method based on the method based on the method based on the\n",
      "Validity of the\n",
      "outcome of a scientific outcome of a scientific outcome of a scientific outcome of a scientific\n",
      "method\n",
      "investigation investigation investigation investigation\n",
      "outline improvements or describe improvements or explain improvements or\n",
      "Improvements state improvements or extensions to the method extensions to the method extensions to the method\n",
      "and extensions to the method. that would benefit the that would benefit the that would benefit the\n",
      "extensions scientific investigation. scientific investigation. scientific investigation.\n",
      "Investigation packet/ Investigating electrical resistanceInvestigating electrical resistance\n",
      "Global Context:\n",
      "Statement of inquiry:\n",
      "Electrical resistance is both good and bad. It is good because electrical resistance has heating effect which allows\n",
      "us to use electricity for heat and light. It is bad because it causes energy loss when electricity is being transmitted\n",
      "over distances.\n",
      "Being able to understand the properties of electrical resistance allows us to have better control of electric currents\n",
      "and its application. Hence, this investigation aims for you to have a better understanding of electrical resistance.\n",
      "Your tasks are\n",
      "ü to design and carry out an investigation on a factor that affects the electrical resistance of one of the\n",
      "following:\n",
      "• putty (playdoh)\n",
      "• conducting paper\n",
      "• a wire at different temperatures\n",
      "• an LDR\n",
      "• an ionic solution.\n",
      "ü to determine the relationship between your chosen factor and electrical resistance.\n",
      "ü to show evidence whether the substance/component investigated is ohmic or not.\n",
      "ü to write a scientific report of your investigation. The written report will be assessed using MYP criteria B\n",
      "and C.\n",
      "Note: Some of these investigations may require you to use some Physics app which you may need to download to\n",
      "your smart phone. Two apps that are useful are Phyphox and Physics Toolbox. They both have the Android and\n",
      "OS versions. They are both easy to use. Phyphox has some investigations in their website.\n",
      "Report writing. You will have roughly 2 weeks to write the report.\n",
      "1. You will work independently in out-of-class time to analyse the data and write a report.\n",
      "a. You must organize yourself so that you do NOT write everything the night before the deadline.\n",
      "b. You will be assessed on how well your investigation report compare against the Assessment Criteria: B\n",
      "(Inquiring and designing) and C (Processing and evaluating). See page 1 for details of the assessment\n",
      "criteria.\n",
      "c. See the checklist on page 3. You are advised to use the same headings for your investigation report.\n",
      "d. Your report must have the following format:\n",
      "• Arial 11 pt font\n",
      "• 1 inch or 2.5 cm margins\n",
      "• do not exceed 10 pages.\n",
      "e. You will submit an electronic copy (doc/docx/pdf) of your report to Turnitin.com on or before the due\n",
      "date.\n",
      "2. On the due date, you must hand-in a hard copy your report and this instruction packet.\n",
      "Investigation packet/ Investigating electrical resistance√ Investigation Check List Grade 9 and 10 Science\n",
      "Aim: Criterion B Inquiring and Designing\n",
      "State a clear focused problem or research question that links the independent and dependent variables.\n",
      "Give a brief explanation of how you intend to identify the link between these variables.\n",
      "Hypothesis: Criterion B Inquiring and Designing\n",
      "F ino dr em pu enla dte\n",
      "e\n",
      "na\n",
      "t\n",
      "t ve as rta iab bl le\n",
      "e\n",
      "h\n",
      ".\n",
      "Yyp oo ut h we is lli s\n",
      "n\n",
      "t eh ea dt d toe s uc sr ei b te es\n",
      "rm\n",
      "h so w\n",
      "lik\n",
      "y eo “u\n",
      "p\n",
      "e rox pp oec rtt\n",
      "i\n",
      "oth ne\n",
      "a\n",
      "ld ”e ,“p de in rd ece tn lt\n",
      "y\n",
      "v pa rr oia pb ol re\n",
      "ti\n",
      "t oo\n",
      "n\n",
      "ab le\n",
      "”\n",
      "a of rf e “c et xe pd\n",
      "o\n",
      "b ny\n",
      "e\n",
      "nc th ia an l”g e es\n",
      "tc\n",
      "t .o the\n",
      "Justify your hypothesis with a scientific explanation.\n",
      "Sketch expected graphical outcome. If appropriate discuss expected gradient or area. [include references]\n",
      "Variables: Criterion B Inquiring and Designing\n",
      "S unta itte\n",
      "s.\n",
      "the independent variable (variable you are changing). Explain how it will be changed. Give range of values with\n",
      "State the dependent variable (the variable you are measuring). Give units and explain how it will be measured.\n",
      "Note all other possible variables that will need to be controlled to ensure the experiment is “fair”. You should explain\n",
      "how and why each of these variables needs to be controlled.\n",
      "Materials/Equipment and Diagrams: Criterion B Inquiring and Designing\n",
      "The materials list should be bullet point with numbers/volumes/masses of the materials/equipment required.\n",
      "The labeled diagram should be simple and well drawn. (ruler/pencil). The diagram can help with clarifying the method.\n",
      "Method: Criterion B Inquiring and Designing\n",
      "The method must have numbered points and be easily followed by another student to achieve similar results/conclusion.\n",
      "Do not say “Gather all the equipment....”\n",
      "The variables/diagram/method descriptions should combine to describe how the data is collected and processed and\n",
      "should allow for collecting an appropriate amount of data.\n",
      "Outline any safety considerations in your experiment.\n",
      "Explain how sufficient, relevant data will be collected and how it will be processed.\n",
      "Results Table: see handout Criterion C Processing and evaluating\n",
      "T prh ee\n",
      "s\n",
      "ed na tt ea\n",
      "d\n",
      "t .a Tb ale\n",
      "b\n",
      "ls eh ho eu ald d:\n",
      "i n\n",
      "h ga sv ae\n",
      "n\n",
      "a\n",
      "d\n",
      "t uit nl ie\n",
      "t\n",
      "s( s se he\n",
      "o\n",
      "a ui lm\n",
      "d\n",
      ") n,\n",
      "o\n",
      "b\n",
      "t\n",
      "e\n",
      "b\n",
      "f eu rl ely\n",
      "p\n",
      "ela ab tee dle wd iw thi it nh ac o talu bm len\n",
      ".\n",
      "Ch oea lud min ng s\n",
      "1\n",
      "a sn hd\n",
      "o\n",
      "uu ln di t bs e. I it\n",
      "n\n",
      "s dh eo pu el nd\n",
      "d\n",
      "b ene tn ve aa rt il ay\n",
      "b le.\n",
      "The table should have a “mean average column” for multiple data entry.\n",
      "An obvious anomalous trial outcome can be circled and ignored for inclusion in the mean average calculation.\n",
      "Graphs: see handout Criterion C Processing and evaluating\n",
      "G wr ita hp h us\n",
      "n\n",
      "is th s,o pu old in:\n",
      "t\n",
      "sh a dv rae\n",
      "w\n",
      "a nt i atl se ( Xse oe\n",
      "r\n",
      "A im ), be as large as possible to ensure less gradient error, have clearly labeled axis\n",
      "Draw line of best fit which could be a smooth curve, a straight line (use ruler) or a combination of these.\n",
      "Usually the independent variable would be drawn on the 'x' axis.\n",
      "Any gradient or area calculations should be done on the graph.\n",
      "Conclusion: Criterion C Processing and evaluating\n",
      "Describe the trend, pattern or relationship you get from your graph.\n",
      "Can you determine a quantitative relationship between your independent and dependent variables (use graph)?\n",
      "Can you derive a formula for the relationship?\n",
      "Draw a clear conclusion based on the correct interpretation of your data.\n",
      "Explain your conclusion using scientific reasoning. [include references]\n",
      "Do your results agree with the scientific explanation of your hypothesis?\n",
      "Identify anomalous results and possible reasons. (this would include a discussion on controlled variables.)\n",
      "Evaluation of the Method: Criterion C Processing and evaluating\n",
      "Evaluate the validity of the hypothesis based on the outcome of the investigation.\n",
      "Evaluate the validity of your method based on the outcome of your investigation.\n",
      "Explain improvements to the method that would benefit the investigation.\n",
      "Explain extensions to the investigation that would benefit the investigation.\n",
      "Write a paragraph explaining how your investigation relates to the statement of inquiry.\n",
      "Investigation packet/ Investigating electrical resistance\n"
     ]
    }
   ],
   "source": [
    "print(task_sheet)"
   ]
  },
  {
   "cell_type": "code",
   "execution_count": 15,
   "metadata": {},
   "outputs": [],
   "source": [
    "prompt = f\"Given the task sheet in triple backticks, write a report with placeholder for the data table. The experiment for the report is changing the length of the wire.\\n```{task_sheet}```\"\n",
    "\n",
    "message = {\"role\":\"user\", \"content\":prompt}"
   ]
  },
  {
   "cell_type": "code",
   "execution_count": 16,
   "metadata": {},
   "outputs": [],
   "source": [
    "report_resp = client.chat.completions.create(\n",
    "    model=\"llama-3.1-70b-versatile\",\n",
    "    messages=[message],\n",
    "    temperature=1,\n",
    "    stream=False,\n",
    "    stop=None,\n",
    ")"
   ]
  },
  {
   "cell_type": "code",
   "execution_count": 17,
   "metadata": {},
   "outputs": [
    {
     "data": {
      "text/markdown": [
       "**Electrical Resistance Investigation Report**\n",
       "\n",
       "**Student's Name:** [Insert name here]\n",
       "**Date:** [Insert date here]\n",
       "\n",
       "**Problem Statement:**\n",
       "How does the length of a wire affect the electrical resistance of the wire?\n",
       "\n",
       "**Hypothesis:**\n",
       "Based on the scientific concept of resistance and the relationship between resistance and wire length, I predict that as the length of the wire increases, the electrical resistance also increases. This can be supported by the equation R = ρ(L/A), where R is resistance, ρ is resistivity, L is length, and A is cross-sectional area.\n",
       "\n",
       "**Variables:**\n",
       "\n",
       "* Independent Variable: Length of the wire\n",
       "* Dependent Variable: Electrical resistance\n",
       "* Controlled Variables: Cross-sectional area of the wire, temperature, and material of the wire\n",
       "\n",
       "**Materials and Equipment:**\n",
       "\n",
       "* Wire (variable length)\n",
       "* Multimeter\n",
       "* Power source\n",
       "* Meter ruler\n",
       "* Pencil and paper\n",
       "\n",
       "**Method:**\n",
       "\n",
       "1. Measure the initial length of the wire using a meter ruler.\n",
       "2. Connect the wire to the multimeter and power source.\n",
       "3. Set the multimeter to measure resistance.\n",
       "4. Record the resistance measurement.\n",
       "5. Repeat steps 2-4 with different lengths of the wire, increasing the length each time.\n",
       "6. Record the length and corresponding resistance measurements.\n",
       "\n",
       "**Results:**\n",
       "\n",
       "| Length (cm) | Resistance (Ω) |\n",
       "|-------------|---------------|\n",
       "| [Insert data] | [Insert data] |\n",
       "| ...          | ...           |\n",
       "\n",
       "**Graph:**\n",
       "\n",
       "[Insert graph with length on the x-axis and resistance on the y-axis]\n",
       "\n",
       "**Conclusion:**\n",
       "The graph shows a positive linear relationship between the length of the wire and electrical resistance, with a clear increasing trend. This supports the hypothesis that as the length of the wire increases, the electrical resistance also increases. The equation R = ρ(L/A) can be used to describe this relationship.\n",
       "\n",
       "**Evaluation of the Method:**\n",
       "The investigation was successful in demonstrating the relationship between wire length and resistance. However, some improvements can be made to the method:\n",
       "\n",
       "* Using a larger range of wire lengths to increase the accuracy of the results.\n",
       "* Using a more precise measurement device to reduce error.\n",
       "* Controlling for any external factors that may affect the resistance measurement.\n",
       "\n",
       "**Relation to Statement of Inquiry:**\n",
       "This investigation relates to the statement of inquiry as it demonstrates how understanding the properties of electrical resistance can help us have better control over electric currents and their applications."
      ],
      "text/plain": [
       "<IPython.core.display.Markdown object>"
      ]
     },
     "metadata": {},
     "output_type": "display_data"
    }
   ],
   "source": [
    "report = report_resp.choices[0].message.content\n",
    "display(Markdown(report))"
   ]
  },
  {
   "attachments": {},
   "cell_type": "markdown",
   "metadata": {},
   "source": [
    "### Saving report\n",
    "\n",
    "Now that Llama has produced this report, it can be saved as a text file so that it can be accessed whenever needed."
   ]
  },
  {
   "cell_type": "code",
   "execution_count": 18,
   "metadata": {},
   "outputs": [],
   "source": [
    "with open('resources/report.txt', 'w') as f:\n",
    "    f.write(report)"
   ]
  }
 ],
 "metadata": {
  "kernelspec": {
   "display_name": "Python 3",
   "language": "python",
   "name": "python3"
  },
  "language_info": {
   "codemirror_mode": {
    "name": "ipython",
    "version": 3
   },
   "file_extension": ".py",
   "mimetype": "text/x-python",
   "name": "python",
   "nbconvert_exporter": "python",
   "pygments_lexer": "ipython3",
   "version": "3.12.1"
  },
  "orig_nbformat": 4
 },
 "nbformat": 4,
 "nbformat_minor": 2
}
