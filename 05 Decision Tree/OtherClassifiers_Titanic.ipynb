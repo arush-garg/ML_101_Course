{
 "cells": [
  {
   "attachments": {},
   "cell_type": "markdown",
   "metadata": {},
   "source": [
    "# Hands-on introduction to ML training\n",
    "In this notebook, we will look at two different classifiers: **Random Forests and K-Nearest Neighbours**. We will tackle the same Titanic survival prediction problem from last lesson to see which model performs better.\n",
    "\n",
    "### Step 1: Load and explore data\n",
    "The first step is figuring out the data source. In this case we will use a pre-existing dataset. We will:\n",
    "1. Create a folder 'data'\n",
    "2. Download the file from public github repo using python package \"requests\" and save the `titanic.csv` file in the data folder."
   ]
  },
  {
   "cell_type": "code",
   "execution_count": 1,
   "metadata": {},
   "outputs": [
    {
     "name": "stdout",
     "output_type": "stream",
     "text": [
      "[Errno 17] File exists: 'data'\n"
     ]
    }
   ],
   "source": [
    "%config IPCompleter.greedy=True #Helps with auto-complete\n",
    "\n",
    "import numpy as np\n",
    "import pandas as pd\n",
    "import os\n",
    "\n",
    "try:\n",
    "    os.mkdir('data')\n",
    "except OSError as error:\n",
    "    print(error)\n",
    "\n",
    "import requests, csv\n",
    "\n",
    "url = 'https://raw.githubusercontent.com/techno-nerd/ML_101_Course/main/05%20Decision%20Tree/data/titanic.csv'\n",
    "r = requests.get(url)\n",
    "with open('data/titanic.csv', 'w') as f:\n",
    "  writer = csv.writer(f)\n",
    "  for line in r.iter_lines():\n",
    "    writer.writerow(line.decode('utf-8').split(','))"
   ]
  },
  {
   "cell_type": "code",
   "execution_count": 2,
   "metadata": {},
   "outputs": [],
   "source": [
    "df = pd.read_csv('data/titanic.csv')"
   ]
  },
  {
   "cell_type": "code",
   "execution_count": 3,
   "metadata": {},
   "outputs": [
    {
     "name": "stdout",
     "output_type": "stream",
     "text": [
      "<class 'pandas.core.frame.DataFrame'>\n",
      "RangeIndex: 893 entries, 0 to 892\n",
      "Data columns (total 12 columns):\n",
      " #   Column       Non-Null Count  Dtype  \n",
      "---  ------       --------------  -----  \n",
      " 0   PassengerId  891 non-null    float64\n",
      " 1   Survived     891 non-null    float64\n",
      " 2   Pclass       891 non-null    float64\n",
      " 3   Name         891 non-null    object \n",
      " 4   Sex          891 non-null    object \n",
      " 5   Age          714 non-null    float64\n",
      " 6   SibSp        891 non-null    float64\n",
      " 7   Parch        891 non-null    float64\n",
      " 8   Ticket       891 non-null    object \n",
      " 9   Fare         891 non-null    float64\n",
      " 10  Cabin        204 non-null    object \n",
      " 11  Embarked     889 non-null    object \n",
      "dtypes: float64(7), object(5)\n",
      "memory usage: 83.8+ KB\n",
      "None\n"
     ]
    }
   ],
   "source": [
    "print(df.info())"
   ]
  },
  {
   "attachments": {},
   "cell_type": "markdown",
   "metadata": {},
   "source": [
    "### This data set has some missing values, which will be handled later"
   ]
  },
  {
   "cell_type": "code",
   "execution_count": 4,
   "metadata": {},
   "outputs": [
    {
     "name": "stdout",
     "output_type": "stream",
     "text": [
      "   PassengerId  Survived  Pclass  \\\n",
      "0          1.0       0.0     3.0   \n",
      "1          2.0       1.0     1.0   \n",
      "2          3.0       1.0     3.0   \n",
      "3          4.0       1.0     1.0   \n",
      "4          5.0       0.0     3.0   \n",
      "\n",
      "                                                Name     Sex   Age  SibSp  \\\n",
      "0                             Braund Mr. Owen Harris    male  22.0    1.0   \n",
      "1  Cumings Mrs. John Bradley (Florence Briggs Tha...  female  38.0    1.0   \n",
      "2                              Heikkinen Miss. Laina  female  26.0    0.0   \n",
      "3        Futrelle Mrs. Jacques Heath (Lily May Peel)  female  35.0    1.0   \n",
      "4                            Allen Mr. William Henry    male  35.0    0.0   \n",
      "\n",
      "   Parch            Ticket     Fare Cabin Embarked  \n",
      "0    0.0         A/5 21171   7.2500   NaN        S  \n",
      "1    0.0          PC 17599  71.2833   C85        C  \n",
      "2    0.0  STON/O2. 3101282   7.9250   NaN        S  \n",
      "3    0.0            113803  53.1000  C123        S  \n",
      "4    0.0            373450   8.0500   NaN        S  \n"
     ]
    }
   ],
   "source": [
    "print(df[:5])"
   ]
  },
  {
   "attachments": {},
   "cell_type": "markdown",
   "metadata": {},
   "source": [
    "[Kaggle Dataset](https://www.kaggle.com/competitions/titanic/data) <br>\n",
    "The data is from a competition on Kaggle. It contains data on various details about passangers aboard the Titanic, including whether they survived or not. We will use this data set to predict whether a person would survive the sinking of the Titanic."
   ]
  },
  {
   "attachments": {},
   "cell_type": "markdown",
   "metadata": {},
   "source": [
    "### Step 2: Data preparation\n",
    "\n",
    "There are a few tasks we need to do before we can train the model on this data:\n",
    "1. Replace string values like 'male' and 'female' with integers (0 and 1)\n",
    "2. Handle categorical values for Embarked\n",
    "3. Get rid of null values\n",
    "4. Drop unnecessary columns like Name \n",
    "\n",
    "Then, we will split the data the same way as last time:\n",
    "1. Split the data (891 rows - before dropping duplicates) into training set (80%) and test set (20%)\n",
    "2. Separate the input features (details about the passenger) from target variable (\"Survived\")"
   ]
  },
  {
   "cell_type": "code",
   "execution_count": 5,
   "metadata": {},
   "outputs": [],
   "source": [
    "df['Sex'].replace({'male':1, 'female':0}, inplace=True)"
   ]
  },
  {
   "cell_type": "code",
   "execution_count": 6,
   "metadata": {},
   "outputs": [
    {
     "name": "stdout",
     "output_type": "stream",
     "text": [
      "Total Passengers: 893\n",
      "PassengerId: 2\n",
      "Survived: 2\n",
      "Pclass: 2\n",
      "Name: 2\n",
      "Sex: 2\n",
      "Age: 179\n",
      "SibSp: 2\n",
      "Parch: 2\n",
      "Ticket: 2\n",
      "Fare: 2\n",
      "Cabin: 689\n",
      "Embarked: 4\n"
     ]
    }
   ],
   "source": [
    "print(f\"Total Passengers: {df.shape[0]}\")\n",
    "for i in df.columns:\n",
    "    print(f\"{i}: {sum(df[i].isnull())}\")"
   ]
  },
  {
   "cell_type": "code",
   "execution_count": 7,
   "metadata": {},
   "outputs": [
    {
     "name": "stdout",
     "output_type": "stream",
     "text": [
      "712\n"
     ]
    }
   ],
   "source": [
    "#Deleting all rows with missing values (except cabin, as that column will be removed)\n",
    "df.dropna(subset=['Age', 'Embarked'], inplace=True)\n",
    "print(df.shape[0])"
   ]
  },
  {
   "cell_type": "code",
   "execution_count": 8,
   "metadata": {},
   "outputs": [
    {
     "name": "stdout",
     "output_type": "stream",
     "text": [
      "PassengerId    float64\n",
      "Survived       float64\n",
      "Pclass         float64\n",
      "Name            object\n",
      "Sex            float64\n",
      "Age            float64\n",
      "SibSp          float64\n",
      "Parch          float64\n",
      "Ticket          object\n",
      "Fare           float64\n",
      "Cabin           object\n",
      "Embarked        object\n",
      "dtype: object\n"
     ]
    }
   ],
   "source": [
    "print(df.dtypes)"
   ]
  },
  {
   "cell_type": "code",
   "execution_count": 9,
   "metadata": {},
   "outputs": [
    {
     "data": {
      "text/html": [
       "<div>\n",
       "<style scoped>\n",
       "    .dataframe tbody tr th:only-of-type {\n",
       "        vertical-align: middle;\n",
       "    }\n",
       "\n",
       "    .dataframe tbody tr th {\n",
       "        vertical-align: top;\n",
       "    }\n",
       "\n",
       "    .dataframe thead th {\n",
       "        text-align: right;\n",
       "    }\n",
       "</style>\n",
       "<table border=\"1\" class=\"dataframe\">\n",
       "  <thead>\n",
       "    <tr style=\"text-align: right;\">\n",
       "      <th></th>\n",
       "      <th>Sex</th>\n",
       "      <th>Age</th>\n",
       "      <th>SibSp</th>\n",
       "      <th>Parch</th>\n",
       "      <th>Fare</th>\n",
       "    </tr>\n",
       "  </thead>\n",
       "  <tbody>\n",
       "    <tr>\n",
       "      <th>0</th>\n",
       "      <td>1.0</td>\n",
       "      <td>22.0</td>\n",
       "      <td>1.0</td>\n",
       "      <td>0.0</td>\n",
       "      <td>7.2500</td>\n",
       "    </tr>\n",
       "    <tr>\n",
       "      <th>1</th>\n",
       "      <td>0.0</td>\n",
       "      <td>38.0</td>\n",
       "      <td>1.0</td>\n",
       "      <td>0.0</td>\n",
       "      <td>71.2833</td>\n",
       "    </tr>\n",
       "    <tr>\n",
       "      <th>2</th>\n",
       "      <td>0.0</td>\n",
       "      <td>26.0</td>\n",
       "      <td>0.0</td>\n",
       "      <td>0.0</td>\n",
       "      <td>7.9250</td>\n",
       "    </tr>\n",
       "    <tr>\n",
       "      <th>3</th>\n",
       "      <td>0.0</td>\n",
       "      <td>35.0</td>\n",
       "      <td>1.0</td>\n",
       "      <td>0.0</td>\n",
       "      <td>53.1000</td>\n",
       "    </tr>\n",
       "    <tr>\n",
       "      <th>4</th>\n",
       "      <td>1.0</td>\n",
       "      <td>35.0</td>\n",
       "      <td>0.0</td>\n",
       "      <td>0.0</td>\n",
       "      <td>8.0500</td>\n",
       "    </tr>\n",
       "  </tbody>\n",
       "</table>\n",
       "</div>"
      ],
      "text/plain": [
       "   Sex   Age  SibSp  Parch     Fare\n",
       "0  1.0  22.0    1.0    0.0   7.2500\n",
       "1  0.0  38.0    1.0    0.0  71.2833\n",
       "2  0.0  26.0    0.0    0.0   7.9250\n",
       "3  0.0  35.0    1.0    0.0  53.1000\n",
       "4  1.0  35.0    0.0    0.0   8.0500"
      ]
     },
     "execution_count": 9,
     "metadata": {},
     "output_type": "execute_result"
    }
   ],
   "source": [
    "#All non-numeric features need to be ignored (embarked and class will be concatenated later after being one-hot encoded)\n",
    "\n",
    "features = df[['Sex', 'Age', 'SibSp', 'Parch', 'Fare']]\n",
    "features[:5]"
   ]
  },
  {
   "cell_type": "code",
   "execution_count": 10,
   "metadata": {},
   "outputs": [
    {
     "name": "stdout",
     "output_type": "stream",
     "text": [
      "   PassengerId  Survived  Pclass  \\\n",
      "0          1.0       0.0     3.0   \n",
      "1          2.0       1.0     1.0   \n",
      "\n",
      "                                                Name  Sex   Age  SibSp  Parch  \\\n",
      "0                             Braund Mr. Owen Harris  1.0  22.0    1.0    0.0   \n",
      "1  Cumings Mrs. John Bradley (Florence Briggs Tha...  0.0  38.0    1.0    0.0   \n",
      "\n",
      "      Ticket     Fare Cabin Embarked  \n",
      "0  A/5 21171   7.2500   NaN        S  \n",
      "1   PC 17599  71.2833   C85        C  \n"
     ]
    },
    {
     "data": {
      "text/html": [
       "<div>\n",
       "<style scoped>\n",
       "    .dataframe tbody tr th:only-of-type {\n",
       "        vertical-align: middle;\n",
       "    }\n",
       "\n",
       "    .dataframe tbody tr th {\n",
       "        vertical-align: top;\n",
       "    }\n",
       "\n",
       "    .dataframe thead th {\n",
       "        text-align: right;\n",
       "    }\n",
       "</style>\n",
       "<table border=\"1\" class=\"dataframe\">\n",
       "  <thead>\n",
       "    <tr style=\"text-align: right;\">\n",
       "      <th></th>\n",
       "      <th>Sex</th>\n",
       "      <th>Age</th>\n",
       "      <th>SibSp</th>\n",
       "      <th>Parch</th>\n",
       "      <th>Fare</th>\n",
       "      <th>1.0</th>\n",
       "      <th>2.0</th>\n",
       "      <th>3.0</th>\n",
       "    </tr>\n",
       "  </thead>\n",
       "  <tbody>\n",
       "    <tr>\n",
       "      <th>0</th>\n",
       "      <td>1.0</td>\n",
       "      <td>22.0</td>\n",
       "      <td>1.0</td>\n",
       "      <td>0.0</td>\n",
       "      <td>7.2500</td>\n",
       "      <td>False</td>\n",
       "      <td>False</td>\n",
       "      <td>True</td>\n",
       "    </tr>\n",
       "    <tr>\n",
       "      <th>1</th>\n",
       "      <td>0.0</td>\n",
       "      <td>38.0</td>\n",
       "      <td>1.0</td>\n",
       "      <td>0.0</td>\n",
       "      <td>71.2833</td>\n",
       "      <td>True</td>\n",
       "      <td>False</td>\n",
       "      <td>False</td>\n",
       "    </tr>\n",
       "  </tbody>\n",
       "</table>\n",
       "</div>"
      ],
      "text/plain": [
       "   Sex   Age  SibSp  Parch     Fare    1.0    2.0    3.0\n",
       "0  1.0  22.0    1.0    0.0   7.2500  False  False   True\n",
       "1  0.0  38.0    1.0    0.0  71.2833   True  False  False"
      ]
     },
     "execution_count": 10,
     "metadata": {},
     "output_type": "execute_result"
    }
   ],
   "source": [
    "#One_hot encoding Passenger class\n",
    "one_hot_class = pd.get_dummies(df['Pclass'])\n",
    "features = features.join(one_hot_class)\n",
    "\n",
    "print(df[:2])\n",
    "features[:2]"
   ]
  },
  {
   "cell_type": "code",
   "execution_count": 11,
   "metadata": {},
   "outputs": [
    {
     "name": "stdout",
     "output_type": "stream",
     "text": [
      "   PassengerId  Survived  Pclass  \\\n",
      "0          1.0       0.0     3.0   \n",
      "1          2.0       1.0     1.0   \n",
      "\n",
      "                                                Name  Sex   Age  SibSp  Parch  \\\n",
      "0                             Braund Mr. Owen Harris  1.0  22.0    1.0    0.0   \n",
      "1  Cumings Mrs. John Bradley (Florence Briggs Tha...  0.0  38.0    1.0    0.0   \n",
      "\n",
      "      Ticket     Fare Cabin Embarked  \n",
      "0  A/5 21171   7.2500   NaN        S  \n",
      "1   PC 17599  71.2833   C85        C  \n"
     ]
    },
    {
     "data": {
      "text/html": [
       "<div>\n",
       "<style scoped>\n",
       "    .dataframe tbody tr th:only-of-type {\n",
       "        vertical-align: middle;\n",
       "    }\n",
       "\n",
       "    .dataframe tbody tr th {\n",
       "        vertical-align: top;\n",
       "    }\n",
       "\n",
       "    .dataframe thead th {\n",
       "        text-align: right;\n",
       "    }\n",
       "</style>\n",
       "<table border=\"1\" class=\"dataframe\">\n",
       "  <thead>\n",
       "    <tr style=\"text-align: right;\">\n",
       "      <th></th>\n",
       "      <th>Sex</th>\n",
       "      <th>Age</th>\n",
       "      <th>SibSp</th>\n",
       "      <th>Parch</th>\n",
       "      <th>Fare</th>\n",
       "      <th>1.0</th>\n",
       "      <th>2.0</th>\n",
       "      <th>3.0</th>\n",
       "      <th>C</th>\n",
       "      <th>Q</th>\n",
       "      <th>S</th>\n",
       "    </tr>\n",
       "  </thead>\n",
       "  <tbody>\n",
       "    <tr>\n",
       "      <th>0</th>\n",
       "      <td>1.0</td>\n",
       "      <td>22.0</td>\n",
       "      <td>1.0</td>\n",
       "      <td>0.0</td>\n",
       "      <td>7.2500</td>\n",
       "      <td>False</td>\n",
       "      <td>False</td>\n",
       "      <td>True</td>\n",
       "      <td>False</td>\n",
       "      <td>False</td>\n",
       "      <td>True</td>\n",
       "    </tr>\n",
       "    <tr>\n",
       "      <th>1</th>\n",
       "      <td>0.0</td>\n",
       "      <td>38.0</td>\n",
       "      <td>1.0</td>\n",
       "      <td>0.0</td>\n",
       "      <td>71.2833</td>\n",
       "      <td>True</td>\n",
       "      <td>False</td>\n",
       "      <td>False</td>\n",
       "      <td>True</td>\n",
       "      <td>False</td>\n",
       "      <td>False</td>\n",
       "    </tr>\n",
       "  </tbody>\n",
       "</table>\n",
       "</div>"
      ],
      "text/plain": [
       "   Sex   Age  SibSp  Parch     Fare    1.0    2.0    3.0      C      Q      S\n",
       "0  1.0  22.0    1.0    0.0   7.2500  False  False   True  False  False   True\n",
       "1  0.0  38.0    1.0    0.0  71.2833   True  False  False   True  False  False"
      ]
     },
     "execution_count": 11,
     "metadata": {},
     "output_type": "execute_result"
    }
   ],
   "source": [
    "#One_hot encoding Embarked point\n",
    "one_hot_embark = pd.get_dummies(df['Embarked'])\n",
    "features = features.join(one_hot_embark)\n",
    "\n",
    "print(df[:2])\n",
    "features[:2]"
   ]
  },
  {
   "cell_type": "code",
   "execution_count": 12,
   "metadata": {},
   "outputs": [
    {
     "name": "stdout",
     "output_type": "stream",
     "text": [
      "Sex      float64\n",
      "Age      float64\n",
      "SibSp    float64\n",
      "Parch    float64\n",
      "Fare     float64\n",
      "1.0         bool\n",
      "2.0         bool\n",
      "3.0         bool\n",
      "C           bool\n",
      "Q           bool\n",
      "S           bool\n",
      "dtype: object\n"
     ]
    }
   ],
   "source": [
    "print(features.dtypes)"
   ]
  },
  {
   "cell_type": "code",
   "execution_count": 13,
   "metadata": {},
   "outputs": [
    {
     "name": "stdout",
     "output_type": "stream",
     "text": [
      "1.0\n",
      "2.0\n",
      "3.0\n",
      "C\n",
      "Q\n",
      "S\n"
     ]
    }
   ],
   "source": [
    "for colName in features.columns:\n",
    "    if features[colName].dtype == bool:\n",
    "        print(colName)\n",
    "        features[colName].replace({False:0, True:1}, inplace=True)"
   ]
  },
  {
   "cell_type": "code",
   "execution_count": 14,
   "metadata": {},
   "outputs": [
    {
     "name": "stdout",
     "output_type": "stream",
     "text": [
      "Sex      float64\n",
      "Age      float64\n",
      "SibSp    float64\n",
      "Parch    float64\n",
      "Fare     float64\n",
      "1.0        int64\n",
      "2.0        int64\n",
      "3.0        int64\n",
      "C          int64\n",
      "Q          int64\n",
      "S          int64\n",
      "dtype: object\n"
     ]
    }
   ],
   "source": [
    "print(features.dtypes)"
   ]
  },
  {
   "cell_type": "code",
   "execution_count": 15,
   "metadata": {},
   "outputs": [
    {
     "name": "stdout",
     "output_type": "stream",
     "text": [
      "Index(['Sex', 'Age', 'SibSp', 'Parch', 'Fare', '1.0', '2.0', '3.0', 'C', 'Q',\n",
      "       'S'],\n",
      "      dtype='object')\n"
     ]
    }
   ],
   "source": [
    "features.columns = features.columns.astype(str)\n",
    "print(features.columns)"
   ]
  },
  {
   "cell_type": "code",
   "execution_count": 16,
   "metadata": {},
   "outputs": [
    {
     "name": "stdout",
     "output_type": "stream",
     "text": [
      "(569, 11)\n",
      "(143, 11)\n",
      "(569,)\n",
      "(143,)\n"
     ]
    }
   ],
   "source": [
    "import sklearn.model_selection as ms\n",
    "\n",
    "labels = df['Survived']\n",
    "\n",
    "train_features, test_features, train_labels, test_labels = ms.train_test_split(features, labels, test_size=0.2)\n",
    "print(train_features.shape)\n",
    "print(test_features.shape)\n",
    "print(train_labels.shape)\n",
    "print(test_labels.shape)"
   ]
  },
  {
   "attachments": {},
   "cell_type": "markdown",
   "metadata": {},
   "source": [
    "### Step 3: Model Selection and Training\n",
    "\n",
    "Instead of Logistic Regression, we will use a Decision Tree."
   ]
  },
  {
   "cell_type": "code",
   "execution_count": 17,
   "metadata": {},
   "outputs": [],
   "source": [
    "from sklearn.ensemble import RandomForestClassifier\n",
    "\n",
    "r_forest = RandomForestClassifier(min_samples_leaf=5, n_estimators=9)\n",
    "r_forest = r_forest.fit(train_features, train_labels)"
   ]
  },
  {
   "cell_type": "code",
   "execution_count": 18,
   "metadata": {},
   "outputs": [],
   "source": [
    "from sklearn.neighbors import KNeighborsClassifier\n",
    "knn = KNeighborsClassifier(n_neighbors=3, weights='distance')\n",
    "knn = knn.fit(train_features, train_labels)"
   ]
  },
  {
   "attachments": {},
   "cell_type": "markdown",
   "metadata": {},
   "source": [
    "### Step 4: Model evaluation and tuning\n",
    "Unlike linear regression, we are not going to use Root Mean Squared Error. Instead, we will use three metrics:\n",
    "1. Accuracy = total correct / total predictions\n",
    "2. Precision = correct class 1 / total predicted class 1\n",
    "3. Recall = correct class 1 / total number of class 1's"
   ]
  },
  {
   "cell_type": "code",
   "execution_count": 19,
   "metadata": {},
   "outputs": [],
   "source": [
    "RF_test_pred = r_forest.predict(test_features)\n",
    "KNN_test_pred = knn.predict(test_features)"
   ]
  },
  {
   "cell_type": "code",
   "execution_count": 20,
   "metadata": {},
   "outputs": [],
   "source": [
    "def ClassifierMetrics(labels, predictions):\n",
    "    total = labels.size\n",
    "    result = (labels == predictions)\n",
    "    correct = result.sum()\n",
    "    accuracy = (correct)/total\n",
    "\n",
    "    #Precision (correct '1' prediction / total '1' prediction)\n",
    "    precision = (result[predictions == 1.0].sum()) / (predictions == 1.0).sum()\n",
    "\n",
    "    #Recall = (correct '1' predictions / total number of '1's)\n",
    "\n",
    "    recall = (result[predictions == 1.0].sum()) / (labels == 1.0).sum()\n",
    "\n",
    "    return [accuracy, precision, recall]"
   ]
  },
  {
   "cell_type": "code",
   "execution_count": 21,
   "metadata": {},
   "outputs": [
    {
     "name": "stdout",
     "output_type": "stream",
     "text": [
      "TEST Metrics:\n",
      "Accuracy: 0.8251748251748252\n",
      "Precision: 0.8461538461538461\n",
      "Recall: 0.7213114754098361\n"
     ]
    }
   ],
   "source": [
    "RF_test_metrics = ClassifierMetrics(test_labels, RF_test_pred)\n",
    "print(\"TEST Metrics:\")\n",
    "print(f\"Accuracy: {RF_test_metrics[0]}\")\n",
    "print(f\"Precision: {RF_test_metrics[1]}\")\n",
    "print(f\"Recall: {RF_test_metrics[2]}\")"
   ]
  },
  {
   "cell_type": "code",
   "execution_count": 22,
   "metadata": {},
   "outputs": [
    {
     "name": "stdout",
     "output_type": "stream",
     "text": [
      "TEST Metrics:\n",
      "Accuracy: 0.6993006993006993\n",
      "Precision: 0.6666666666666666\n",
      "Recall: 0.5901639344262295\n"
     ]
    }
   ],
   "source": [
    "KNN_test_metrics = ClassifierMetrics(test_labels, KNN_test_pred)\n",
    "print(\"TEST Metrics:\")\n",
    "print(f\"Accuracy: {KNN_test_metrics[0]}\")\n",
    "print(f\"Precision: {KNN_test_metrics[1]}\")\n",
    "print(f\"Recall: {KNN_test_metrics[2]}\")"
   ]
  },
  {
   "attachments": {},
   "cell_type": "markdown",
   "metadata": {},
   "source": [
    "### Step 5: Model visualisation\n",
    "\n",
    "It is possible to visualise each tree in the Random Forest, but we will not go over that in this notebook. \n"
   ]
  }
 ],
 "metadata": {
  "kernelspec": {
   "display_name": "Python 3",
   "language": "python",
   "name": "python3"
  },
  "language_info": {
   "codemirror_mode": {
    "name": "ipython",
    "version": 3
   },
   "file_extension": ".py",
   "mimetype": "text/x-python",
   "name": "python",
   "nbconvert_exporter": "python",
   "pygments_lexer": "ipython3",
   "version": "3.11.1"
  },
  "orig_nbformat": 4
 },
 "nbformat": 4,
 "nbformat_minor": 2
}
