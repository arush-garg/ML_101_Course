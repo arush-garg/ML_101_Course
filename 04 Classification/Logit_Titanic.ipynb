{
 "cells": [
  {
   "attachments": {},
   "cell_type": "markdown",
   "metadata": {},
   "source": [
    "# Hands-on introduction to ML training\n",
    "In this notebook we will tackle a different kind of problem: Classification\n",
    "\n",
    "In this lesson, we will also use one-hot encoding, something we learnt about in the previous lesson.\n",
    "\n",
    "### Step 1: Load and explore data\n",
    "The first step is figuring out the data source. In this case we will use a pre-existing dataset. We will:\n",
    "1. Create a folder 'data'\n",
    "2. Download the file from public github repo using python package \"requests\" and save the `titanic.csv` file in the data folder."
   ]
  },
  {
   "cell_type": "code",
   "execution_count": 36,
   "metadata": {},
   "outputs": [
    {
     "name": "stdout",
     "output_type": "stream",
     "text": [
      "[Errno 17] File exists: 'data'\n"
     ]
    }
   ],
   "source": [
    "%config IPCompleter.greedy=True #Helps with auto-complete\n",
    "\n",
    "import numpy as np\n",
    "import pandas as pd\n",
    "import os\n",
    "\n",
    "try:\n",
    "    os.mkdir('data')\n",
    "except OSError as error:\n",
    "    print(error)\n",
    "\n",
    "import requests, csv\n",
    "\n",
    "url = 'https://raw.githubusercontent.com/techno-nerd/ML_Course/main/04%20Classification/data/titanic.csv'\n",
    "r = requests.get(url)\n",
    "with open('data/titanic.csv', 'w') as f:\n",
    "  writer = csv.writer(f)\n",
    "  for line in r.iter_lines():\n",
    "    writer.writerow(line.decode('utf-8').split(','))"
   ]
  },
  {
   "cell_type": "code",
   "execution_count": 37,
   "metadata": {},
   "outputs": [],
   "source": [
    "df = pd.read_csv('data/titanic.csv')"
   ]
  },
  {
   "cell_type": "code",
   "execution_count": 38,
   "metadata": {},
   "outputs": [
    {
     "data": {
      "text/html": [
       "<div>\n",
       "<style scoped>\n",
       "    .dataframe tbody tr th:only-of-type {\n",
       "        vertical-align: middle;\n",
       "    }\n",
       "\n",
       "    .dataframe tbody tr th {\n",
       "        vertical-align: top;\n",
       "    }\n",
       "\n",
       "    .dataframe thead th {\n",
       "        text-align: right;\n",
       "    }\n",
       "</style>\n",
       "<table border=\"1\" class=\"dataframe\">\n",
       "  <thead>\n",
       "    <tr style=\"text-align: right;\">\n",
       "      <th></th>\n",
       "      <th>PassengerId</th>\n",
       "      <th>Survived</th>\n",
       "      <th>Pclass</th>\n",
       "      <th>Name</th>\n",
       "      <th>Sex</th>\n",
       "      <th>Age</th>\n",
       "      <th>SibSp</th>\n",
       "      <th>Parch</th>\n",
       "      <th>Ticket</th>\n",
       "      <th>Fare</th>\n",
       "      <th>Cabin</th>\n",
       "      <th>Embarked</th>\n",
       "    </tr>\n",
       "  </thead>\n",
       "  <tbody>\n",
       "    <tr>\n",
       "      <th>0</th>\n",
       "      <td>1.0</td>\n",
       "      <td>0.0</td>\n",
       "      <td>3.0</td>\n",
       "      <td>Braund Mr. Owen Harris</td>\n",
       "      <td>male</td>\n",
       "      <td>22.0</td>\n",
       "      <td>1.0</td>\n",
       "      <td>0.0</td>\n",
       "      <td>A/5 21171</td>\n",
       "      <td>7.2500</td>\n",
       "      <td>NaN</td>\n",
       "      <td>S</td>\n",
       "    </tr>\n",
       "    <tr>\n",
       "      <th>1</th>\n",
       "      <td>2.0</td>\n",
       "      <td>1.0</td>\n",
       "      <td>1.0</td>\n",
       "      <td>Cumings Mrs. John Bradley (Florence Briggs Tha...</td>\n",
       "      <td>female</td>\n",
       "      <td>38.0</td>\n",
       "      <td>1.0</td>\n",
       "      <td>0.0</td>\n",
       "      <td>PC 17599</td>\n",
       "      <td>71.2833</td>\n",
       "      <td>C85</td>\n",
       "      <td>C</td>\n",
       "    </tr>\n",
       "    <tr>\n",
       "      <th>2</th>\n",
       "      <td>3.0</td>\n",
       "      <td>1.0</td>\n",
       "      <td>3.0</td>\n",
       "      <td>Heikkinen Miss. Laina</td>\n",
       "      <td>female</td>\n",
       "      <td>26.0</td>\n",
       "      <td>0.0</td>\n",
       "      <td>0.0</td>\n",
       "      <td>STON/O2. 3101282</td>\n",
       "      <td>7.9250</td>\n",
       "      <td>NaN</td>\n",
       "      <td>S</td>\n",
       "    </tr>\n",
       "    <tr>\n",
       "      <th>3</th>\n",
       "      <td>4.0</td>\n",
       "      <td>1.0</td>\n",
       "      <td>1.0</td>\n",
       "      <td>Futrelle Mrs. Jacques Heath (Lily May Peel)</td>\n",
       "      <td>female</td>\n",
       "      <td>35.0</td>\n",
       "      <td>1.0</td>\n",
       "      <td>0.0</td>\n",
       "      <td>113803</td>\n",
       "      <td>53.1000</td>\n",
       "      <td>C123</td>\n",
       "      <td>S</td>\n",
       "    </tr>\n",
       "    <tr>\n",
       "      <th>4</th>\n",
       "      <td>5.0</td>\n",
       "      <td>0.0</td>\n",
       "      <td>3.0</td>\n",
       "      <td>Allen Mr. William Henry</td>\n",
       "      <td>male</td>\n",
       "      <td>35.0</td>\n",
       "      <td>0.0</td>\n",
       "      <td>0.0</td>\n",
       "      <td>373450</td>\n",
       "      <td>8.0500</td>\n",
       "      <td>NaN</td>\n",
       "      <td>S</td>\n",
       "    </tr>\n",
       "  </tbody>\n",
       "</table>\n",
       "</div>"
      ],
      "text/plain": [
       "   PassengerId  Survived  Pclass  \\\n",
       "0          1.0       0.0     3.0   \n",
       "1          2.0       1.0     1.0   \n",
       "2          3.0       1.0     3.0   \n",
       "3          4.0       1.0     1.0   \n",
       "4          5.0       0.0     3.0   \n",
       "\n",
       "                                                Name     Sex   Age  SibSp  \\\n",
       "0                             Braund Mr. Owen Harris    male  22.0    1.0   \n",
       "1  Cumings Mrs. John Bradley (Florence Briggs Tha...  female  38.0    1.0   \n",
       "2                              Heikkinen Miss. Laina  female  26.0    0.0   \n",
       "3        Futrelle Mrs. Jacques Heath (Lily May Peel)  female  35.0    1.0   \n",
       "4                            Allen Mr. William Henry    male  35.0    0.0   \n",
       "\n",
       "   Parch            Ticket     Fare Cabin Embarked  \n",
       "0    0.0         A/5 21171   7.2500   NaN        S  \n",
       "1    0.0          PC 17599  71.2833   C85        C  \n",
       "2    0.0  STON/O2. 3101282   7.9250   NaN        S  \n",
       "3    0.0            113803  53.1000  C123        S  \n",
       "4    0.0            373450   8.0500   NaN        S  "
      ]
     },
     "execution_count": 38,
     "metadata": {},
     "output_type": "execute_result"
    }
   ],
   "source": [
    "df[:5]"
   ]
  },
  {
   "cell_type": "code",
   "execution_count": 39,
   "metadata": {},
   "outputs": [
    {
     "name": "stdout",
     "output_type": "stream",
     "text": [
      "Survived\n",
      "0.0    549\n",
      "1.0    342\n",
      "Name: count, dtype: int64\n"
     ]
    }
   ],
   "source": [
    "print(df['Survived'].value_counts())\n",
    "#0 = Died, 1 = Survived"
   ]
  },
  {
   "attachments": {},
   "cell_type": "markdown",
   "metadata": {},
   "source": [
    "### Visualising the distribution of rows for some of the features"
   ]
  },
  {
   "cell_type": "code",
   "execution_count": 40,
   "metadata": {},
   "outputs": [
    {
     "data": {
      "text/plain": [
       "<Axes: >"
      ]
     },
     "execution_count": 40,
     "metadata": {},
     "output_type": "execute_result"
    },
    {
     "data": {
      "image/png": "[encoded data removed]",
      "text/plain": [
       "<Figure size 640x480 with 1 Axes>"
      ]
     },
     "metadata": {},
     "output_type": "display_data"
    }
   ],
   "source": [
    "df['Age'].hist(width=6)"
   ]
  },
  {
   "cell_type": "code",
   "execution_count": 41,
   "metadata": {},
   "outputs": [
    {
     "data": {
      "text/plain": [
       "<Axes: xlabel='Pclass'>"
      ]
     },
     "execution_count": 41,
     "metadata": {},
     "output_type": "execute_result"
    },
    {
     "data": {
      "image/png": "[encoded data removed]",
      "text/plain": [
       "<Figure size 640x480 with 1 Axes>"
      ]
     },
     "metadata": {},
     "output_type": "display_data"
    }
   ],
   "source": [
    "df['Pclass'].value_counts().sort_values().plot(kind='bar')"
   ]
  },
  {
   "attachments": {},
   "cell_type": "markdown",
   "metadata": {},
   "source": [
    "### Now, we are looking at the distribution of people who survived across a few different features to determine their importance"
   ]
  },
  {
   "cell_type": "code",
   "execution_count": 42,
   "metadata": {},
   "outputs": [],
   "source": [
    "#Function returns the stats for survived (1) vs died (0) for a given variable (column)\n",
    "\n",
    "def survival_stats(variable):\n",
    "    Died = df[df[\"Survived\"]==0][variable].value_counts()\n",
    "    Survived = df[df[\"Survived\"]==1][variable].value_counts()\n",
    "\n",
    "    data = pd.DataFrame([Died, Survived])\n",
    "    data.index=[\"No\", \"Yes\"]\n",
    "    return data.head()"
   ]
  },
  {
   "cell_type": "code",
   "execution_count": 43,
   "metadata": {},
   "outputs": [
    {
     "data": {
      "text/html": [
       "<div>\n",
       "<style scoped>\n",
       "    .dataframe tbody tr th:only-of-type {\n",
       "        vertical-align: middle;\n",
       "    }\n",
       "\n",
       "    .dataframe tbody tr th {\n",
       "        vertical-align: top;\n",
       "    }\n",
       "\n",
       "    .dataframe thead th {\n",
       "        text-align: right;\n",
       "    }\n",
       "</style>\n",
       "<table border=\"1\" class=\"dataframe\">\n",
       "  <thead>\n",
       "    <tr style=\"text-align: right;\">\n",
       "      <th>Sex</th>\n",
       "      <th>male</th>\n",
       "      <th>female</th>\n",
       "    </tr>\n",
       "  </thead>\n",
       "  <tbody>\n",
       "    <tr>\n",
       "      <th>No</th>\n",
       "      <td>468</td>\n",
       "      <td>81</td>\n",
       "    </tr>\n",
       "    <tr>\n",
       "      <th>Yes</th>\n",
       "      <td>109</td>\n",
       "      <td>233</td>\n",
       "    </tr>\n",
       "  </tbody>\n",
       "</table>\n",
       "</div>"
      ],
      "text/plain": [
       "Sex  male  female\n",
       "No    468      81\n",
       "Yes   109     233"
      ]
     },
     "execution_count": 43,
     "metadata": {},
     "output_type": "execute_result"
    }
   ],
   "source": [
    "survival_stats('Sex')"
   ]
  },
  {
   "cell_type": "code",
   "execution_count": 44,
   "metadata": {},
   "outputs": [
    {
     "data": {
      "text/html": [
       "<div>\n",
       "<style scoped>\n",
       "    .dataframe tbody tr th:only-of-type {\n",
       "        vertical-align: middle;\n",
       "    }\n",
       "\n",
       "    .dataframe tbody tr th {\n",
       "        vertical-align: top;\n",
       "    }\n",
       "\n",
       "    .dataframe thead th {\n",
       "        text-align: right;\n",
       "    }\n",
       "</style>\n",
       "<table border=\"1\" class=\"dataframe\">\n",
       "  <thead>\n",
       "    <tr style=\"text-align: right;\">\n",
       "      <th>Embarked</th>\n",
       "      <th>S</th>\n",
       "      <th>C</th>\n",
       "      <th>Q</th>\n",
       "    </tr>\n",
       "  </thead>\n",
       "  <tbody>\n",
       "    <tr>\n",
       "      <th>No</th>\n",
       "      <td>427</td>\n",
       "      <td>75</td>\n",
       "      <td>47</td>\n",
       "    </tr>\n",
       "    <tr>\n",
       "      <th>Yes</th>\n",
       "      <td>217</td>\n",
       "      <td>93</td>\n",
       "      <td>30</td>\n",
       "    </tr>\n",
       "  </tbody>\n",
       "</table>\n",
       "</div>"
      ],
      "text/plain": [
       "Embarked    S   C   Q\n",
       "No        427  75  47\n",
       "Yes       217  93  30"
      ]
     },
     "execution_count": 44,
     "metadata": {},
     "output_type": "execute_result"
    }
   ],
   "source": [
    "survival_stats('Embarked')"
   ]
  },
  {
   "attachments": {},
   "cell_type": "markdown",
   "metadata": {},
   "source": [
    "### Step 2: Data preparation\n",
    "\n",
    "There are a few tasks we need to do before we can train the model on this data:\n",
    "1. Get rid of null values \n",
    "2. Replace string values like 'male' and 'female' with integers (0 and 1)\n",
    "3. Handle categorical values for Embarked\n",
    "4. Drop unnecessary columns like Name \n",
    "\n",
    "Then, we will split the data the same way as last time:\n",
    "1. Split the data (181 rows) into training set (80%) and test set (20%)\n",
    "2. Separate the input features (\"GPA\") from target variable (\"SAT Score\")"
   ]
  },
  {
   "cell_type": "code",
   "execution_count": 45,
   "metadata": {},
   "outputs": [
    {
     "name": "stdout",
     "output_type": "stream",
     "text": [
      "Total Passengers: 893\n",
      "PassengerId: 2\n",
      "Survived: 2\n",
      "Pclass: 2\n",
      "Name: 2\n",
      "Sex: 2\n",
      "Age: 179\n",
      "SibSp: 2\n",
      "Parch: 2\n",
      "Ticket: 2\n",
      "Fare: 2\n",
      "Cabin: 689\n",
      "Embarked: 4\n"
     ]
    }
   ],
   "source": [
    "#Missing values\n",
    "print(f\"Total Passengers: {df.shape[0]}\")\n",
    "for i in df.columns:\n",
    "    print(f\"{i}: {sum(df[i].isnull())}\")"
   ]
  },
  {
   "cell_type": "code",
   "execution_count": 46,
   "metadata": {},
   "outputs": [],
   "source": [
    "df['Sex'].replace({'male':1, 'female':0}, inplace=True)"
   ]
  },
  {
   "cell_type": "code",
   "execution_count": 47,
   "metadata": {},
   "outputs": [
    {
     "name": "stdout",
     "output_type": "stream",
     "text": [
      "Sex\n",
      "1.0    577\n",
      "0.0    314\n",
      "Name: count, dtype: int64\n"
     ]
    }
   ],
   "source": [
    "print(df['Sex'].value_counts())"
   ]
  },
  {
   "cell_type": "code",
   "execution_count": 48,
   "metadata": {},
   "outputs": [
    {
     "name": "stdout",
     "output_type": "stream",
     "text": [
      "712\n"
     ]
    }
   ],
   "source": [
    "#Deleting all rows with missing values (except cabin, as that column will be removed)\n",
    "df.dropna(subset=['Age', 'Embarked'], inplace=True)\n",
    "print(df.shape[0])"
   ]
  },
  {
   "cell_type": "code",
   "execution_count": 49,
   "metadata": {},
   "outputs": [
    {
     "name": "stdout",
     "output_type": "stream",
     "text": [
      "PassengerId    float64\n",
      "Survived       float64\n",
      "Pclass         float64\n",
      "Name            object\n",
      "Sex            float64\n",
      "Age            float64\n",
      "SibSp          float64\n",
      "Parch          float64\n",
      "Ticket          object\n",
      "Fare           float64\n",
      "Cabin           object\n",
      "Embarked        object\n",
      "dtype: object\n"
     ]
    }
   ],
   "source": [
    "print(df.dtypes)"
   ]
  },
  {
   "cell_type": "code",
   "execution_count": 50,
   "metadata": {},
   "outputs": [
    {
     "data": {
      "text/html": [
       "<div>\n",
       "<style scoped>\n",
       "    .dataframe tbody tr th:only-of-type {\n",
       "        vertical-align: middle;\n",
       "    }\n",
       "\n",
       "    .dataframe tbody tr th {\n",
       "        vertical-align: top;\n",
       "    }\n",
       "\n",
       "    .dataframe thead th {\n",
       "        text-align: right;\n",
       "    }\n",
       "</style>\n",
       "<table border=\"1\" class=\"dataframe\">\n",
       "  <thead>\n",
       "    <tr style=\"text-align: right;\">\n",
       "      <th></th>\n",
       "      <th>Sex</th>\n",
       "      <th>Age</th>\n",
       "      <th>SibSp</th>\n",
       "      <th>Parch</th>\n",
       "      <th>Fare</th>\n",
       "    </tr>\n",
       "  </thead>\n",
       "  <tbody>\n",
       "    <tr>\n",
       "      <th>0</th>\n",
       "      <td>1.0</td>\n",
       "      <td>22.0</td>\n",
       "      <td>1.0</td>\n",
       "      <td>0.0</td>\n",
       "      <td>7.2500</td>\n",
       "    </tr>\n",
       "    <tr>\n",
       "      <th>1</th>\n",
       "      <td>0.0</td>\n",
       "      <td>38.0</td>\n",
       "      <td>1.0</td>\n",
       "      <td>0.0</td>\n",
       "      <td>71.2833</td>\n",
       "    </tr>\n",
       "    <tr>\n",
       "      <th>2</th>\n",
       "      <td>0.0</td>\n",
       "      <td>26.0</td>\n",
       "      <td>0.0</td>\n",
       "      <td>0.0</td>\n",
       "      <td>7.9250</td>\n",
       "    </tr>\n",
       "    <tr>\n",
       "      <th>3</th>\n",
       "      <td>0.0</td>\n",
       "      <td>35.0</td>\n",
       "      <td>1.0</td>\n",
       "      <td>0.0</td>\n",
       "      <td>53.1000</td>\n",
       "    </tr>\n",
       "    <tr>\n",
       "      <th>4</th>\n",
       "      <td>1.0</td>\n",
       "      <td>35.0</td>\n",
       "      <td>0.0</td>\n",
       "      <td>0.0</td>\n",
       "      <td>8.0500</td>\n",
       "    </tr>\n",
       "  </tbody>\n",
       "</table>\n",
       "</div>"
      ],
      "text/plain": [
       "   Sex   Age  SibSp  Parch     Fare\n",
       "0  1.0  22.0    1.0    0.0   7.2500\n",
       "1  0.0  38.0    1.0    0.0  71.2833\n",
       "2  0.0  26.0    0.0    0.0   7.9250\n",
       "3  0.0  35.0    1.0    0.0  53.1000\n",
       "4  1.0  35.0    0.0    0.0   8.0500"
      ]
     },
     "execution_count": 50,
     "metadata": {},
     "output_type": "execute_result"
    }
   ],
   "source": [
    "#All non-numeric features need to be ignored (embarked and class will be added to features later after being one-hot encoded)\n",
    "\n",
    "features = df[['Sex', 'Age', 'SibSp', 'Parch', 'Fare']]\n",
    "features[:5]"
   ]
  },
  {
   "cell_type": "code",
   "execution_count": 51,
   "metadata": {},
   "outputs": [
    {
     "data": {
      "text/html": [
       "<div>\n",
       "<style scoped>\n",
       "    .dataframe tbody tr th:only-of-type {\n",
       "        vertical-align: middle;\n",
       "    }\n",
       "\n",
       "    .dataframe tbody tr th {\n",
       "        vertical-align: top;\n",
       "    }\n",
       "\n",
       "    .dataframe thead th {\n",
       "        text-align: right;\n",
       "    }\n",
       "</style>\n",
       "<table border=\"1\" class=\"dataframe\">\n",
       "  <thead>\n",
       "    <tr style=\"text-align: right;\">\n",
       "      <th></th>\n",
       "      <th>Sex</th>\n",
       "      <th>Age</th>\n",
       "      <th>SibSp</th>\n",
       "      <th>Parch</th>\n",
       "      <th>Fare</th>\n",
       "      <th>1.0</th>\n",
       "      <th>2.0</th>\n",
       "      <th>3.0</th>\n",
       "    </tr>\n",
       "  </thead>\n",
       "  <tbody>\n",
       "    <tr>\n",
       "      <th>0</th>\n",
       "      <td>1.0</td>\n",
       "      <td>22.0</td>\n",
       "      <td>1.0</td>\n",
       "      <td>0.0</td>\n",
       "      <td>7.2500</td>\n",
       "      <td>False</td>\n",
       "      <td>False</td>\n",
       "      <td>True</td>\n",
       "    </tr>\n",
       "    <tr>\n",
       "      <th>1</th>\n",
       "      <td>0.0</td>\n",
       "      <td>38.0</td>\n",
       "      <td>1.0</td>\n",
       "      <td>0.0</td>\n",
       "      <td>71.2833</td>\n",
       "      <td>True</td>\n",
       "      <td>False</td>\n",
       "      <td>False</td>\n",
       "    </tr>\n",
       "  </tbody>\n",
       "</table>\n",
       "</div>"
      ],
      "text/plain": [
       "   Sex   Age  SibSp  Parch     Fare    1.0    2.0    3.0\n",
       "0  1.0  22.0    1.0    0.0   7.2500  False  False   True\n",
       "1  0.0  38.0    1.0    0.0  71.2833   True  False  False"
      ]
     },
     "execution_count": 51,
     "metadata": {},
     "output_type": "execute_result"
    }
   ],
   "source": [
    "#One_hot encoding Passenger class\n",
    "one_hot_class = pd.get_dummies(df['Pclass'])\n",
    "features = features.join(one_hot_class)\n",
    "\n",
    "features[:2]"
   ]
  },
  {
   "cell_type": "code",
   "execution_count": 52,
   "metadata": {},
   "outputs": [
    {
     "data": {
      "text/html": [
       "<div>\n",
       "<style scoped>\n",
       "    .dataframe tbody tr th:only-of-type {\n",
       "        vertical-align: middle;\n",
       "    }\n",
       "\n",
       "    .dataframe tbody tr th {\n",
       "        vertical-align: top;\n",
       "    }\n",
       "\n",
       "    .dataframe thead th {\n",
       "        text-align: right;\n",
       "    }\n",
       "</style>\n",
       "<table border=\"1\" class=\"dataframe\">\n",
       "  <thead>\n",
       "    <tr style=\"text-align: right;\">\n",
       "      <th></th>\n",
       "      <th>Sex</th>\n",
       "      <th>Age</th>\n",
       "      <th>SibSp</th>\n",
       "      <th>Parch</th>\n",
       "      <th>Fare</th>\n",
       "      <th>1.0</th>\n",
       "      <th>2.0</th>\n",
       "      <th>3.0</th>\n",
       "      <th>C</th>\n",
       "      <th>Q</th>\n",
       "      <th>S</th>\n",
       "    </tr>\n",
       "  </thead>\n",
       "  <tbody>\n",
       "    <tr>\n",
       "      <th>0</th>\n",
       "      <td>1.0</td>\n",
       "      <td>22.0</td>\n",
       "      <td>1.0</td>\n",
       "      <td>0.0</td>\n",
       "      <td>7.2500</td>\n",
       "      <td>False</td>\n",
       "      <td>False</td>\n",
       "      <td>True</td>\n",
       "      <td>False</td>\n",
       "      <td>False</td>\n",
       "      <td>True</td>\n",
       "    </tr>\n",
       "    <tr>\n",
       "      <th>1</th>\n",
       "      <td>0.0</td>\n",
       "      <td>38.0</td>\n",
       "      <td>1.0</td>\n",
       "      <td>0.0</td>\n",
       "      <td>71.2833</td>\n",
       "      <td>True</td>\n",
       "      <td>False</td>\n",
       "      <td>False</td>\n",
       "      <td>True</td>\n",
       "      <td>False</td>\n",
       "      <td>False</td>\n",
       "    </tr>\n",
       "  </tbody>\n",
       "</table>\n",
       "</div>"
      ],
      "text/plain": [
       "   Sex   Age  SibSp  Parch     Fare    1.0    2.0    3.0      C      Q      S\n",
       "0  1.0  22.0    1.0    0.0   7.2500  False  False   True  False  False   True\n",
       "1  0.0  38.0    1.0    0.0  71.2833   True  False  False   True  False  False"
      ]
     },
     "execution_count": 52,
     "metadata": {},
     "output_type": "execute_result"
    }
   ],
   "source": [
    "#One_hot encoding Embarked point\n",
    "one_hot_embark = pd.get_dummies(df['Embarked'])\n",
    "features = features.join(one_hot_embark)\n",
    "\n",
    "features[:2]"
   ]
  },
  {
   "cell_type": "code",
   "execution_count": 53,
   "metadata": {},
   "outputs": [
    {
     "name": "stdout",
     "output_type": "stream",
     "text": [
      "Sex      float64\n",
      "Age      float64\n",
      "SibSp    float64\n",
      "Parch    float64\n",
      "Fare     float64\n",
      "1.0         bool\n",
      "2.0         bool\n",
      "3.0         bool\n",
      "C           bool\n",
      "Q           bool\n",
      "S           bool\n",
      "dtype: object\n"
     ]
    }
   ],
   "source": [
    "print(features.dtypes)"
   ]
  },
  {
   "cell_type": "code",
   "execution_count": 54,
   "metadata": {},
   "outputs": [
    {
     "name": "stdout",
     "output_type": "stream",
     "text": [
      "1.0\n",
      "2.0\n",
      "3.0\n",
      "C\n",
      "Q\n",
      "S\n"
     ]
    }
   ],
   "source": [
    "for colName in features.columns:\n",
    "    if features[colName].dtype == bool:\n",
    "        print(colName)\n",
    "        features[colName].replace({False:0, True:1}, inplace=True)"
   ]
  },
  {
   "cell_type": "code",
   "execution_count": 55,
   "metadata": {},
   "outputs": [
    {
     "name": "stdout",
     "output_type": "stream",
     "text": [
      "Sex      float64\n",
      "Age      float64\n",
      "SibSp    float64\n",
      "Parch    float64\n",
      "Fare     float64\n",
      "1.0        int64\n",
      "2.0        int64\n",
      "3.0        int64\n",
      "C          int64\n",
      "Q          int64\n",
      "S          int64\n",
      "dtype: object\n"
     ]
    }
   ],
   "source": [
    "print(features.dtypes)"
   ]
  },
  {
   "cell_type": "code",
   "execution_count": 56,
   "metadata": {},
   "outputs": [
    {
     "name": "stdout",
     "output_type": "stream",
     "text": [
      "Index(['Sex', 'Age', 'SibSp', 'Parch', 'Fare', '1.0', '2.0', '3.0', 'C', 'Q',\n",
      "       'S'],\n",
      "      dtype='object')\n"
     ]
    }
   ],
   "source": [
    "features.columns = features.columns.astype(str)\n",
    "print(features.columns)"
   ]
  },
  {
   "cell_type": "code",
   "execution_count": 57,
   "metadata": {},
   "outputs": [
    {
     "name": "stdout",
     "output_type": "stream",
     "text": [
      "(569, 11)\n",
      "(143, 11)\n",
      "(569,)\n",
      "(143,)\n"
     ]
    }
   ],
   "source": [
    "import sklearn.model_selection as ms\n",
    "\n",
    "labels = df['Survived']\n",
    "\n",
    "train_features, test_features, train_labels, test_labels = ms.train_test_split(features, labels, test_size=0.2)\n",
    "print(train_features.shape)\n",
    "print(test_features.shape)\n",
    "print(train_labels.shape)\n",
    "print(test_labels.shape)"
   ]
  },
  {
   "attachments": {},
   "cell_type": "markdown",
   "metadata": {},
   "source": [
    "### Step 3: Model Selection and Training\n",
    "\n",
    "For this problem, we will use a model called logistic regression. The image below illustrates the difference between linear and logistic regression. \n",
    "\n",
    "![Linear vs Logistic Regression](https://raw.githubusercontent.com/techno-nerd/ML_101_Course/main/04%20Classification/resources/logit.png)\n",
    "\n",
    "To learn more, watch the video: https://youtu.be/O4sExG-hUxA\n",
    "\n",
    "This model also learns weights for each feature, just like a linear regression model. But,  it applies a function at the end that maps the value between 0 and 1."
   ]
  },
  {
   "cell_type": "code",
   "execution_count": 58,
   "metadata": {},
   "outputs": [
    {
     "name": "stdout",
     "output_type": "stream",
     "text": [
      "[[-2.2784038  -0.03835513 -0.32951366  0.0419414   0.00241814  1.11385919\n",
      "  -0.03256043 -1.07736195  0.41140688 -0.29344707 -0.11402301]]\n",
      "[2.44288466]\n"
     ]
    }
   ],
   "source": [
    "from sklearn import linear_model as lm\n",
    "\n",
    "logistic_mod = lm.LogisticRegression(solver='lbfgs', max_iter=500)\n",
    "logistic_mod.fit(train_features, train_labels)\n",
    "\n",
    "print(logistic_mod.coef_)\n",
    "print(logistic_mod.intercept_)"
   ]
  },
  {
   "attachments": {},
   "cell_type": "markdown",
   "metadata": {},
   "source": [
    "Output of Logistic Regression model is between 0 and 1<br>\n",
    "\n",
    "It is the probability of \"label = 1\". E.g. if the output is 0.8, it means there is an 80% probability that the person will \"survive\" (label = 1) and 20% probability that the person will \"die\" (label = 0)"
   ]
  },
  {
   "cell_type": "code",
   "execution_count": 59,
   "metadata": {},
   "outputs": [],
   "source": [
    "train_probs = logistic_mod.predict_proba(train_features)\n",
    "test_probs = logistic_mod.predict_proba(test_features)"
   ]
  },
  {
   "cell_type": "code",
   "execution_count": 60,
   "metadata": {},
   "outputs": [
    {
     "name": "stdout",
     "output_type": "stream",
     "text": [
      "Class 0 (Died) and Class 1 (Survived) probabilities\n",
      "[[0.38292908 0.61707092]\n",
      " [0.35895366 0.64104634]\n",
      " [0.86390473 0.13609527]\n",
      " [0.85024939 0.14975061]\n",
      " [0.04572932 0.95427068]]\n"
     ]
    }
   ],
   "source": [
    "print('Class 0 (Died) and Class 1 (Survived) probabilities')\n",
    "print(train_probs[:5])"
   ]
  },
  {
   "attachments": {},
   "cell_type": "markdown",
   "metadata": {},
   "source": [
    "### Step 4: Model evaluation and tuning\n",
    "Unlike linear regression, we are not going to use Root Mean Squared Error. Instead, we will use three metrics:\n",
    "1. Accuracy = total correct / total predictions\n",
    "2. Precision = correct class 1 / total predicted class 1\n",
    "3. Recall = correct class 1 / total number of class 1's\n"
   ]
  },
  {
   "cell_type": "code",
   "execution_count": 61,
   "metadata": {},
   "outputs": [],
   "source": [
    "#Here, we are saying that whenever the confidence is above 50%, consider the value to be 1, otherwise 0. 50% (0.5) here is called the threshold.\n",
    "\n",
    "train_pred = np.where(train_probs[:, 1] > 0.5, 1, 0)\n",
    "test_pred = np.where(test_probs[:, 1] > 0.5, 1, 0)"
   ]
  },
  {
   "cell_type": "code",
   "execution_count": 62,
   "metadata": {},
   "outputs": [],
   "source": [
    "def ClassifierMetrics(labels, predictions):\n",
    "    total = labels.size\n",
    "    result = (labels == predictions)\n",
    "    correct = result.sum()\n",
    "    accuracy = (correct)/total\n",
    "\n",
    "    #Precision (correct '1' prediction / total '1' prediction)\n",
    "    precision = (result[predictions == 1.0].sum()) / (predictions == 1.0).sum()\n",
    "\n",
    "    #Recall = (correct '1' predictions / total number of '1's)\n",
    "\n",
    "    recall = (result[predictions == 1.0].sum()) / (labels == 1.0).sum()\n",
    "\n",
    "    return [accuracy, precision, recall]"
   ]
  },
  {
   "cell_type": "code",
   "execution_count": 63,
   "metadata": {},
   "outputs": [
    {
     "name": "stdout",
     "output_type": "stream",
     "text": [
      "TRAIN Metrics:\n",
      "Accuracy: 79.44%\n",
      "Precision: 77.46%\n",
      "Recall: 70.51\n"
     ]
    }
   ],
   "source": [
    "train_metrics = ClassifierMetrics(train_labels, train_pred)\n",
    "print(\"TRAIN Metrics:\")\n",
    "print(f\"Accuracy: {np.round(train_metrics[0]*100, 2)}%\")\n",
    "print(f\"Precision: {np.round(train_metrics[1]*100, 2)}%\")\n",
    "print(f\"Recall: {np.round(train_metrics[2]*100, 2)}%\")"
   ]
  },
  {
   "cell_type": "code",
   "execution_count": 64,
   "metadata": {},
   "outputs": [
    {
     "name": "stdout",
     "output_type": "stream",
     "text": [
      "TEST Metrics:\n",
      "Accuracy: 84.62%\n",
      "Precision: 82.0%\n",
      "Recall: 75.93%\n"
     ]
    }
   ],
   "source": [
    "test_metrics = ClassifierMetrics(test_labels, test_pred)\n",
    "print(\"TEST Metrics:\")\n",
    "print(f\"Accuracy: {np.round(test_metrics[0]*100, 2)}%\")\n",
    "print(f\"Precision: {np.round(test_metrics[1]*100, 2)}%\")\n",
    "print(f\"Recall: {np.round(test_metrics[2]*100, 2)}%\")"
   ]
  },
  {
   "attachments": {},
   "cell_type": "markdown",
   "metadata": {},
   "source": [
    "### Precision and Recall\n",
    "\n",
    "The precision and recall can be fine-tuned by adjusting the threshold (0.5 for this example). Typically, higher the threshold, higher the precision and lower the recall.\n",
    "\n",
    "Precision is important for problems like facial recognition, where false positives can be a major security risk.\n",
    "\n",
    "Recall is important for problems like medical diagnosis, where true negatives can leave dangerous conditions untreated. "
   ]
  },
  {
   "cell_type": "code",
   "execution_count": 65,
   "metadata": {},
   "outputs": [],
   "source": [
    "#For comparison, here is how a linear regression model would perform\n",
    "\n",
    "from sklearn.linear_model import LinearRegression\n",
    "\n",
    "linear_mod = LinearRegression()\n",
    "linear_mod = linear_mod.fit(train_features, train_labels)"
   ]
  },
  {
   "cell_type": "code",
   "execution_count": 66,
   "metadata": {},
   "outputs": [],
   "source": [
    "train_probs_ln = linear_mod.predict(train_features)\n",
    "test_probs_ln = linear_mod.predict(test_features)"
   ]
  },
  {
   "cell_type": "code",
   "execution_count": 67,
   "metadata": {},
   "outputs": [],
   "source": [
    "#Here, we are saying that whenever the confidence is above 50%, consider the value to be 1, otherwise 0. 50% (0.5) here is called the threshold.\n",
    "\n",
    "train_pred_ln = np.where(train_probs_ln[:] > 0.5, 1, 0)\n",
    "test_pred_ln = np.where(test_probs_ln[:] > 0.5, 1, 0)"
   ]
  },
  {
   "cell_type": "code",
   "execution_count": 68,
   "metadata": {},
   "outputs": [
    {
     "name": "stdout",
     "output_type": "stream",
     "text": [
      "TEST Metrics:\n",
      "Accuracy: 82.52%\n",
      "Precision: 77.36%\n",
      "Recall: 75.93%\n"
     ]
    }
   ],
   "source": [
    "test_metrics_ln = ClassifierMetrics(test_labels, test_pred_ln)\n",
    "print(\"TEST Metrics:\")\n",
    "print(f\"Accuracy: {np.round(test_metrics_ln[0]*100, 2)}%\")\n",
    "print(f\"Precision: {np.round(test_metrics_ln[1]*100, 2)}%\")\n",
    "print(f\"Recall: {np.round(test_metrics_ln[2]*100, 2)}%\")"
   ]
  },
  {
   "attachments": {},
   "cell_type": "markdown",
   "metadata": {},
   "source": [
    "As you can see, Linear Regression is not a bad choice for this problem. However, this will not hold true for more complex problems.\n",
    "\n",
    "To learn more about why Logistic Regression is used instead, watch this [video](https://www.youtube.com/watch?v=O4sExG-hUxA&list=PLQgiAnE0yKhdxtPdPeinKnuS2Qt4wEein&index=4)\n"
   ]
  }
 ],
 "metadata": {
  "kernelspec": {
   "display_name": "Python 3",
   "language": "python",
   "name": "python3"
  },
  "language_info": {
   "codemirror_mode": {
    "name": "ipython",
    "version": 3
   },
   "file_extension": ".py",
   "mimetype": "text/x-python",
   "name": "python",
   "nbconvert_exporter": "python",
   "pygments_lexer": "ipython3",
   "version": "3.11.1"
  },
  "orig_nbformat": 4
 },
 "nbformat": 4,
 "nbformat_minor": 2
}
