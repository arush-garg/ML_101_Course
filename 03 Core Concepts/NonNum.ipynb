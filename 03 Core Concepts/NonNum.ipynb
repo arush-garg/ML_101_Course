{
  "cells": [
    {
      "cell_type": "markdown",
      "metadata": {
        "id": "N2BoLIxPoFdS"
      },
      "source": [
        "# Hands-on introduction to ML training\n",
        "In this notebook we will take a step back from training models and learn how to prepare data for model training.\n",
        "\n",
        "In this lesson, we will also learn about a technique called one-hot encoding.\n",
        "\n",
        "### Step 1: Load and explore data\n",
        "The first step is figuring out the data source. In this case we will use a pre-existing dataset. We will:\n",
        "1. Create a folder 'data'\n",
        "2. Download the file from public github repo using python package \"requests\" and save the grades_raw.csv file in the data folder."
      ]
    },
    {
      "cell_type": "code",
      "execution_count": 1,
      "metadata": {
        "id": "f65Y-TDhoFdV"
      },
      "outputs": [],
      "source": [
        "%config IPCompleter.greedy=True #Helps with auto-complete\n",
        "\n",
        "import os\n",
        "\n",
        "try:\n",
        "    os.mkdir('data')\n",
        "except OSError as error:\n",
        "    print(error)\n",
        "\n",
        "import requests, csv\n",
        "\n",
        "url = ''\n",
        "r = requests.get(url)\n",
        "with open('data/grades_raw.csv', 'w') as f:\n",
        "  writer = csv.writer(f)\n",
        "  for line in r.iter_lines():\n",
        "    writer.writerow(line.decode('utf-8').split(','))"
      ]
    },
    {
      "cell_type": "code",
      "execution_count": 2,
      "metadata": {
        "id": "I2IQQWkxoFdX"
      },
      "outputs": [],
      "source": [
        "import numpy as np\n",
        "import pandas as pd\n",
        "\n",
        "data = pd.read_csv('data/grades_raw.csv')"
      ]
    },
    {
      "cell_type": "code",
      "execution_count": 3,
      "metadata": {
        "colab": {
          "base_uri": "https://localhost:8080/"
        },
        "id": "_sI-DsQZvEEE",
        "outputId": "6e54f20b-a5c1-4a32-d6e4-704e03c42365"
      },
      "outputs": [
        {
          "name": "stdout",
          "output_type": "stream",
          "text": [
            "<class 'pandas.core.frame.DataFrame'>\n",
            "RangeIndex: 395 entries, 0 to 394\n",
            "Data columns (total 33 columns):\n",
            " #   Column      Non-Null Count  Dtype \n",
            "---  ------      --------------  ----- \n",
            " 0   school      395 non-null    object\n",
            " 1   sex         395 non-null    object\n",
            " 2   age         395 non-null    int64 \n",
            " 3   address     395 non-null    object\n",
            " 4   famsize     395 non-null    object\n",
            " 5   Pstatus     395 non-null    object\n",
            " 6   Medu        395 non-null    int64 \n",
            " 7   Fedu        395 non-null    int64 \n",
            " 8   Mjob        395 non-null    object\n",
            " 9   Fjob        395 non-null    object\n",
            " 10  reason      395 non-null    object\n",
            " 11  guardian    395 non-null    object\n",
            " 12  traveltime  395 non-null    int64 \n",
            " 13  studytime   395 non-null    int64 \n",
            " 14  failures    395 non-null    int64 \n",
            " 15  schoolsup   395 non-null    object\n",
            " 16  famsup      395 non-null    object\n",
            " 17  paid        395 non-null    object\n",
            " 18  activities  395 non-null    object\n",
            " 19  nursery     395 non-null    object\n",
            " 20  higher      395 non-null    object\n",
            " 21  internet    395 non-null    object\n",
            " 22  romantic    395 non-null    object\n",
            " 23  famrel      395 non-null    int64 \n",
            " 24  freetime    395 non-null    int64 \n",
            " 25  goout       395 non-null    int64 \n",
            " 26  Dalc        395 non-null    int64 \n",
            " 27  Walc        395 non-null    int64 \n",
            " 28  health      395 non-null    int64 \n",
            " 29  absences    395 non-null    int64 \n",
            " 30  G1          395 non-null    int64 \n",
            " 31  G2          395 non-null    int64 \n",
            " 32  G3          395 non-null    int64 \n",
            "dtypes: int64(16), object(17)\n",
            "memory usage: 102.0+ KB\n",
            "None\n"
          ]
        }
      ],
      "source": [
        "print(data.info())"
      ]
    },
    {
      "attachments": {},
      "cell_type": "markdown",
      "metadata": {},
      "source": [
        "### This dataset does not have any missing values"
      ]
    },
    {
      "cell_type": "code",
      "execution_count": 4,
      "metadata": {
        "colab": {
          "base_uri": "https://localhost:8080/"
        },
        "id": "23GTN5mhoFdX",
        "outputId": "dd65154b-a39f-4558-b9cc-3eb75cd8bfaf"
      },
      "outputs": [
        {
          "name": "stdout",
          "output_type": "stream",
          "text": [
            "  school sex  age address famsize Pstatus  Medu  Fedu     Mjob      Fjob  ...  \\\n",
            "0     GP   F   18       U     GT3       A     4     4  at_home   teacher  ...   \n",
            "1     GP   F   17       U     GT3       T     1     1  at_home     other  ...   \n",
            "2     GP   F   15       U     LE3       T     1     1  at_home     other  ...   \n",
            "3     GP   F   15       U     GT3       T     4     2   health  services  ...   \n",
            "4     GP   F   16       U     GT3       T     3     3    other     other  ...   \n",
            "\n",
            "  famrel freetime  goout  Dalc  Walc health absences  G1  G2  G3  \n",
            "0      4        3      4     1     1      3        6   5   6   6  \n",
            "1      5        3      3     1     1      3        4   5   5   6  \n",
            "2      4        3      2     2     3      3       10   7   8  10  \n",
            "3      3        2      2     1     1      5        2  15  14  15  \n",
            "4      4        3      2     1     2      5        4   6  10  10  \n",
            "\n",
            "[5 rows x 33 columns]\n"
          ]
        }
      ],
      "source": [
        "print(data[:5])"
      ]
    },
    {
      "cell_type": "markdown",
      "metadata": {
        "id": "R9fdca8rpfwf"
      },
      "source": [
        "[Kaggle Dataset](https://www.kaggle.com/datasets/uciml/student-alcohol-consumption)\n",
        "The data were obtained in a survey of students math and portuguese language courses in secondary school. It contains a lot of interesting social, gender and study information about students. You can use it for some EDA (Exploratory Data Analysis) or try to predict students final grade."
      ]
    },
    {
      "cell_type": "code",
      "execution_count": 5,
      "metadata": {
        "colab": {
          "base_uri": "https://localhost:8080/",
          "height": 141
        },
        "id": "wEy2-EA7oFdX",
        "outputId": "6d5056e2-b21b-4416-faa0-93af98e8d80d"
      },
      "outputs": [
        {
          "data": {
            "text/html": [
              "<div>\n",
              "<style scoped>\n",
              "    .dataframe tbody tr th:only-of-type {\n",
              "        vertical-align: middle;\n",
              "    }\n",
              "\n",
              "    .dataframe tbody tr th {\n",
              "        vertical-align: top;\n",
              "    }\n",
              "\n",
              "    .dataframe thead th {\n",
              "        text-align: right;\n",
              "    }\n",
              "</style>\n",
              "<table border=\"1\" class=\"dataframe\">\n",
              "  <thead>\n",
              "    <tr style=\"text-align: right;\">\n",
              "      <th></th>\n",
              "      <th>sex</th>\n",
              "      <th>age</th>\n",
              "      <th>address</th>\n",
              "      <th>famsize</th>\n",
              "      <th>Pstatus</th>\n",
              "      <th>Medu</th>\n",
              "      <th>Fedu</th>\n",
              "      <th>Mjob</th>\n",
              "      <th>Fjob</th>\n",
              "      <th>reason</th>\n",
              "      <th>...</th>\n",
              "      <th>internet</th>\n",
              "      <th>romantic</th>\n",
              "      <th>famrel</th>\n",
              "      <th>freetime</th>\n",
              "      <th>goout</th>\n",
              "      <th>Dalc</th>\n",
              "      <th>Walc</th>\n",
              "      <th>health</th>\n",
              "      <th>absences</th>\n",
              "      <th>G3</th>\n",
              "    </tr>\n",
              "  </thead>\n",
              "  <tbody>\n",
              "    <tr>\n",
              "      <th>0</th>\n",
              "      <td>F</td>\n",
              "      <td>18</td>\n",
              "      <td>U</td>\n",
              "      <td>GT3</td>\n",
              "      <td>A</td>\n",
              "      <td>4</td>\n",
              "      <td>4</td>\n",
              "      <td>at_home</td>\n",
              "      <td>teacher</td>\n",
              "      <td>course</td>\n",
              "      <td>...</td>\n",
              "      <td>no</td>\n",
              "      <td>no</td>\n",
              "      <td>4</td>\n",
              "      <td>3</td>\n",
              "      <td>4</td>\n",
              "      <td>1</td>\n",
              "      <td>1</td>\n",
              "      <td>3</td>\n",
              "      <td>6</td>\n",
              "      <td>6</td>\n",
              "    </tr>\n",
              "    <tr>\n",
              "      <th>1</th>\n",
              "      <td>F</td>\n",
              "      <td>17</td>\n",
              "      <td>U</td>\n",
              "      <td>GT3</td>\n",
              "      <td>T</td>\n",
              "      <td>1</td>\n",
              "      <td>1</td>\n",
              "      <td>at_home</td>\n",
              "      <td>other</td>\n",
              "      <td>course</td>\n",
              "      <td>...</td>\n",
              "      <td>yes</td>\n",
              "      <td>no</td>\n",
              "      <td>5</td>\n",
              "      <td>3</td>\n",
              "      <td>3</td>\n",
              "      <td>1</td>\n",
              "      <td>1</td>\n",
              "      <td>3</td>\n",
              "      <td>4</td>\n",
              "      <td>6</td>\n",
              "    </tr>\n",
              "  </tbody>\n",
              "</table>\n",
              "<p>2 rows × 30 columns</p>\n",
              "</div>"
            ],
            "text/plain": [
              "  sex  age address famsize Pstatus  Medu  Fedu     Mjob     Fjob  reason  ...  \\\n",
              "0   F   18       U     GT3       A     4     4  at_home  teacher  course  ...   \n",
              "1   F   17       U     GT3       T     1     1  at_home    other  course  ...   \n",
              "\n",
              "  internet  romantic  famrel  freetime goout Dalc Walc health absences G3  \n",
              "0       no        no       4         3     4    1    1      3        6  6  \n",
              "1      yes        no       5         3     3    1    1      3        4  6  \n",
              "\n",
              "[2 rows x 30 columns]"
            ]
          },
          "execution_count": 5,
          "metadata": {},
          "output_type": "execute_result"
        }
      ],
      "source": [
        "#Removing G1 and G2 because the final grade (G3) is what we want to predict.\n",
        "data.drop('G1', axis=1, inplace=True)\n",
        "data.drop('G2', axis=1, inplace=True)\n",
        "\n",
        "#Removing school as we would like this model to not be specific to only a small number of schools in the dataset\n",
        "data.drop('school', axis=1, inplace=True)\n",
        "data[:2]"
      ]
    },
    {
      "cell_type": "markdown",
      "metadata": {
        "id": "FUJgqvEvoFdY"
      },
      "source": [
        "### Changing non-numerical boolean values to 0/1\n",
        "For now we will treat this as a regression problem and prepare the data to be used for LinearRegression model. As LinearRegression model is a mathematical equation, we need to convert all non-numerical features to numerical values. Features with only two possible values can be simply turned into boolean features (0, 1)"
      ]
    },
    {
      "cell_type": "code",
      "execution_count": 10,
      "metadata": {},
      "outputs": [
        {
          "name": "stdout",
          "output_type": "stream",
          "text": [
            "sex: 2\n",
            "age: 8\n",
            "address: 2\n",
            "famsize: 2\n",
            "Pstatus: 2\n",
            "Medu: 5\n",
            "Fedu: 5\n",
            "Mjob: 5\n",
            "Fjob: 5\n",
            "reason: 4\n",
            "guardian: 3\n",
            "traveltime: 4\n",
            "studytime: 4\n",
            "failures: 4\n",
            "schoolsup: 2\n",
            "famsup: 2\n",
            "paid: 2\n",
            "activities: 2\n",
            "nursery: 2\n",
            "higher: 2\n",
            "internet: 2\n",
            "romantic: 2\n",
            "famrel: 5\n",
            "freetime: 5\n",
            "goout: 5\n",
            "Dalc: 5\n",
            "Walc: 5\n",
            "health: 5\n",
            "absences: 34\n",
            "G3: 18\n"
          ]
        }
      ],
      "source": [
        "for column in data.columns:\n",
        "    print(f'{column}: {data[column].nunique()}')"
      ]
    },
    {
      "attachments": {},
      "cell_type": "markdown",
      "metadata": {},
      "source": [
        "### Non-numeric columns with 2 distinct values = Boolean Encoding\n",
        "\n",
        "### Non-numeric columns with 3+ distinct values = One-hot Encoding"
      ]
    },
    {
      "cell_type": "code",
      "execution_count": 11,
      "metadata": {
        "id": "RbEjIzatoFdY"
      },
      "outputs": [],
      "source": [
        "data['sex'].replace({'F':0, 'M':1}, inplace=True)"
      ]
    },
    {
      "cell_type": "code",
      "execution_count": 12,
      "metadata": {
        "id": "8sofki_uoFdY"
      },
      "outputs": [],
      "source": [
        "data['address'].replace({'R':0, 'U':1}, inplace=True)"
      ]
    },
    {
      "cell_type": "code",
      "execution_count": 13,
      "metadata": {
        "id": "qQuIRA_goFdZ"
      },
      "outputs": [],
      "source": [
        "data['famsize'].replace({'LE3':0, 'GT3':1}, inplace=True)"
      ]
    },
    {
      "cell_type": "code",
      "execution_count": 14,
      "metadata": {
        "id": "cZcCiPhEoFdZ"
      },
      "outputs": [],
      "source": [
        "data['Pstatus'].replace({'A':0, 'T':1}, inplace=True)"
      ]
    },
    {
      "cell_type": "markdown",
      "metadata": {
        "id": "R4KIhlPQoFdZ"
      },
      "source": [
        "### One-hot encoding data with only a few different possible values\n",
        "\n",
        "For non-numerical features that have more than 2 distinct values, we will use One-hot encoding technique to convert them into a series of booleans. For example, a students school can be either elementary, middle or high.\n",
        "\n",
        "Originally, the data might look like:\n",
        "\n",
        "|StudentID|School|\n",
        "|---|---|\n",
        "|0|Elementary|\n",
        "|1|Middle|\n",
        "|2|High|\n",
        "\n",
        "After one-hot encoding, it might look like:\n",
        "\n",
        "|StudentID|Elementary|Middle|High|\n",
        "|---|---|---|---|\n",
        "|0|1|0|0|\n",
        "|1|0|1|0\n",
        "|2|0|0|1|\n",
        "\n",
        "0 = Student is not in that school <br>\n",
        "1 =Student is in that school"
      ]
    },
    {
      "cell_type": "code",
      "execution_count": 15,
      "metadata": {
        "colab": {
          "base_uri": "https://localhost:8080/"
        },
        "id": "uVv5qfgJoFdZ",
        "outputId": "574dfb7e-70ba-4c8e-9ec8-94a9cd4223ce"
      },
      "outputs": [
        {
          "name": "stdout",
          "output_type": "stream",
          "text": [
            "   at_home  health  other  services  teacher\n",
            "0     True   False  False     False    False\n",
            "1     True   False  False     False    False\n",
            "2     True   False  False     False    False\n",
            "3    False    True  False     False    False\n",
            "4    False   False   True     False    False\n",
            "5    False   False  False      True    False\n",
            "6    False   False   True     False    False\n",
            "7    False   False   True     False    False\n",
            "8    False   False  False      True    False\n",
            "9    False   False   True     False    False\n"
          ]
        }
      ],
      "source": [
        "# Mother Job is a categorical feature with 5 distinct values. We will use get_dummies to One-Hot encode this feature resulting in \"5\" boolean features\n",
        "mjob = pd.get_dummies(data['Mjob'])\n",
        "print(mjob[:10])"
      ]
    },
    {
      "cell_type": "code",
      "execution_count": 16,
      "metadata": {
        "id": "WKVgrrX1oFda"
      },
      "outputs": [],
      "source": [
        "#Renaming column names for clarity as the same job can also be for \"father\"\n",
        "mjob.columns = ['m_at_home', 'm_health', 'm_other', 'm_services', 'm_teacher']"
      ]
    },
    {
      "cell_type": "code",
      "execution_count": 17,
      "metadata": {
        "colab": {
          "base_uri": "https://localhost:8080/"
        },
        "id": "BFtsmDIUoFda",
        "outputId": "b430d10a-27f1-495a-e2a7-d441a19e022b"
      },
      "outputs": [
        {
          "name": "stdout",
          "output_type": "stream",
          "text": [
            "   sex  age  address  famsize  Pstatus  Medu  Fedu     Fjob  reason guardian  \\\n",
            "0    0   18        1        1        0     4     4  teacher  course   mother   \n",
            "1    0   17        1        1        1     1     1    other  course   father   \n",
            "\n",
            "   ...  Dalc  Walc  health absences G3 m_at_home m_health m_other m_services  \\\n",
            "0  ...     1     1       3        6  6      True    False   False      False   \n",
            "1  ...     1     1       3        4  6      True    False   False      False   \n",
            "\n",
            "  m_teacher  \n",
            "0     False  \n",
            "1     False  \n",
            "\n",
            "[2 rows x 34 columns]\n"
          ]
        }
      ],
      "source": [
        "#Removing the original Mjob categorical column and adding the newly-created 5 boolean columns\n",
        "\n",
        "data.drop(['Mjob'], axis=1, inplace=True)\n",
        "data = pd.concat([data, mjob], axis=1)\n",
        "print(data[:2])"
      ]
    },
    {
      "cell_type": "code",
      "execution_count": 18,
      "metadata": {
        "colab": {
          "base_uri": "https://localhost:8080/"
        },
        "id": "RfZ7bGChoFda",
        "outputId": "fbcd466c-6217-4a2e-9fed-a12e41297ef0"
      },
      "outputs": [
        {
          "name": "stdout",
          "output_type": "stream",
          "text": [
            "   at_home  health  other  services  teacher\n",
            "0    False   False  False     False     True\n",
            "1    False   False   True     False    False\n"
          ]
        }
      ],
      "source": [
        "#Repeat the same steps for Father Job column\n",
        "\n",
        "fjob = pd.get_dummies(data['Fjob'])\n",
        "print(fjob[:2])"
      ]
    },
    {
      "cell_type": "code",
      "execution_count": 19,
      "metadata": {
        "id": "ToxNgV37oFda"
      },
      "outputs": [],
      "source": [
        "fjob.columns = ['f_at_home', 'f_health', 'f_other', 'f_services', 'f_teacher']"
      ]
    },
    {
      "cell_type": "code",
      "execution_count": 20,
      "metadata": {
        "colab": {
          "base_uri": "https://localhost:8080/"
        },
        "id": "gnSEx-8YoFda",
        "outputId": "99271c01-3926-498c-bf64-0fedabbdaca0"
      },
      "outputs": [
        {
          "name": "stdout",
          "output_type": "stream",
          "text": [
            "   sex  age  address  famsize  Pstatus  Medu  Fedu  reason guardian  \\\n",
            "0    0   18        1        1        0     4     4  course   mother   \n",
            "1    0   17        1        1        1     1     1  course   father   \n",
            "\n",
            "   traveltime  ...  m_at_home  m_health m_other m_services m_teacher  \\\n",
            "0           2  ...       True     False   False      False     False   \n",
            "1           1  ...       True     False   False      False     False   \n",
            "\n",
            "  f_at_home f_health f_other f_services f_teacher  \n",
            "0     False    False   False      False      True  \n",
            "1     False    False    True      False     False  \n",
            "\n",
            "[2 rows x 38 columns]\n"
          ]
        }
      ],
      "source": [
        "data.drop(['Fjob'], axis=1, inplace=True)\n",
        "data = pd.concat([data, fjob], axis=1)\n",
        "print(data[:2])"
      ]
    },
    {
      "cell_type": "code",
      "execution_count": 21,
      "metadata": {
        "colab": {
          "base_uri": "https://localhost:8080/"
        },
        "id": "wckWhP6_oFda",
        "outputId": "467a29d4-889a-40b6-8373-9b7b83b88f38"
      },
      "outputs": [
        {
          "name": "stdout",
          "output_type": "stream",
          "text": [
            "   course   home  other  reputation\n",
            "0    True  False  False       False\n",
            "1    True  False  False       False\n"
          ]
        }
      ],
      "source": [
        "reason = pd.get_dummies(data['reason'])\n",
        "print(reason[:2])"
      ]
    },
    {
      "cell_type": "code",
      "execution_count": 22,
      "metadata": {
        "colab": {
          "base_uri": "https://localhost:8080/"
        },
        "id": "y8F73XNvoFda",
        "outputId": "0336db2f-2959-408f-e8f5-c861c9718cb2"
      },
      "outputs": [
        {
          "name": "stdout",
          "output_type": "stream",
          "text": [
            "   sex  age  address  famsize  Pstatus  Medu  Fedu guardian  traveltime  \\\n",
            "0    0   18        1        1        0     4     4   mother           2   \n",
            "1    0   17        1        1        1     1     1   father           1   \n",
            "\n",
            "   studytime  ...  m_teacher f_at_home f_health f_other f_services f_teacher  \\\n",
            "0          2  ...      False     False    False   False      False      True   \n",
            "1          2  ...      False     False    False    True      False     False   \n",
            "\n",
            "  course   home  other  reputation  \n",
            "0   True  False  False       False  \n",
            "1   True  False  False       False  \n",
            "\n",
            "[2 rows x 41 columns]\n"
          ]
        }
      ],
      "source": [
        "data.drop(['reason'], axis=1, inplace=True)\n",
        "data = pd.concat([data, reason], axis=1)\n",
        "print(data[:2])"
      ]
    },
    {
      "cell_type": "code",
      "execution_count": 23,
      "metadata": {
        "colab": {
          "base_uri": "https://localhost:8080/"
        },
        "id": "LE_P3QcsoFda",
        "outputId": "cfa3fdc4-2729-4265-99a1-5da758867491"
      },
      "outputs": [
        {
          "name": "stdout",
          "output_type": "stream",
          "text": [
            "   father  mother  other\n",
            "0   False    True  False\n",
            "1    True   False  False\n"
          ]
        }
      ],
      "source": [
        "guardian = pd.get_dummies(data['guardian'])\n",
        "print(guardian[:2])"
      ]
    },
    {
      "cell_type": "code",
      "execution_count": 24,
      "metadata": {
        "colab": {
          "base_uri": "https://localhost:8080/"
        },
        "id": "b8ENXMryoFda",
        "outputId": "9b7c7d4f-af73-485e-ac4a-5ff3672c801d"
      },
      "outputs": [
        {
          "name": "stdout",
          "output_type": "stream",
          "text": [
            "   sex  age  address  famsize  Pstatus  Medu  Fedu  traveltime  studytime  \\\n",
            "0    0   18        1        1        0     4     4           2          2   \n",
            "1    0   17        1        1        1     1     1           1          2   \n",
            "\n",
            "   failures  ... f_other f_services f_teacher course   home  other reputation  \\\n",
            "0         0  ...   False      False      True   True  False  False      False   \n",
            "1         0  ...    True      False     False   True  False  False      False   \n",
            "\n",
            "  father  mother  other  \n",
            "0  False    True  False  \n",
            "1   True   False  False  \n",
            "\n",
            "[2 rows x 43 columns]\n"
          ]
        }
      ],
      "source": [
        "data.drop(['guardian'], axis=1, inplace=True)\n",
        "data = pd.concat([data, guardian], axis=1)\n",
        "print(data[:2])"
      ]
    },
    {
      "cell_type": "markdown",
      "metadata": {
        "id": "OMclAqrfoFdb"
      },
      "source": [
        "### As seen above, the value is boolean, True or False. We will convert such values to 0/1"
      ]
    },
    {
      "cell_type": "code",
      "execution_count": 25,
      "metadata": {
        "colab": {
          "base_uri": "https://localhost:8080/"
        },
        "id": "ir-XxQPnoFdb",
        "outputId": "b7e8c027-e5c3-457b-9875-2c3b75b521e8"
      },
      "outputs": [
        {
          "name": "stdout",
          "output_type": "stream",
          "text": [
            "   sex  age  address  famsize  Pstatus  Medu  Fedu  traveltime  studytime  \\\n",
            "0    0   18        1        1        0     4     4           2          2   \n",
            "1    0   17        1        1        1     1     1           1          2   \n",
            "\n",
            "   failures  ...  f_other  f_services  f_teacher  course  home  other  \\\n",
            "0         0  ...        0           0          1       1     0      0   \n",
            "1         0  ...        1           0          0       1     0      0   \n",
            "\n",
            "   reputation  father  mother  other  \n",
            "0           0       0       1      0  \n",
            "1           0       1       0      0  \n",
            "\n",
            "[2 rows x 43 columns]\n"
          ]
        }
      ],
      "source": [
        "# Replace all \"no\" / \"False\" to 0 and \"yes\" / \"True\" to 1 across the entire dataset\n",
        "data.replace({'no':0, 'yes':1}, inplace=True)\n",
        "data.replace({'False':0, 'True':1}, inplace=True)\n",
        "data.replace({False:0, True:1}, inplace=True)\n",
        "print(data[:2])"
      ]
    },
    {
      "cell_type": "code",
      "execution_count": 26,
      "metadata": {
        "colab": {
          "base_uri": "https://localhost:8080/"
        },
        "id": "6-3fSllIoFdb",
        "outputId": "7380702f-bc92-46d3-96fb-abd91ccfbd7a"
      },
      "outputs": [
        {
          "name": "stdout",
          "output_type": "stream",
          "text": [
            "<class 'pandas.core.frame.DataFrame'>\n",
            "RangeIndex: 395 entries, 0 to 394\n",
            "Data columns (total 43 columns):\n",
            " #   Column      Non-Null Count  Dtype\n",
            "---  ------      --------------  -----\n",
            " 0   sex         395 non-null    int64\n",
            " 1   age         395 non-null    int64\n",
            " 2   address     395 non-null    int64\n",
            " 3   famsize     395 non-null    int64\n",
            " 4   Pstatus     395 non-null    int64\n",
            " 5   Medu        395 non-null    int64\n",
            " 6   Fedu        395 non-null    int64\n",
            " 7   traveltime  395 non-null    int64\n",
            " 8   studytime   395 non-null    int64\n",
            " 9   failures    395 non-null    int64\n",
            " 10  schoolsup   395 non-null    int64\n",
            " 11  famsup      395 non-null    int64\n",
            " 12  paid        395 non-null    int64\n",
            " 13  activities  395 non-null    int64\n",
            " 14  nursery     395 non-null    int64\n",
            " 15  higher      395 non-null    int64\n",
            " 16  internet    395 non-null    int64\n",
            " 17  romantic    395 non-null    int64\n",
            " 18  famrel      395 non-null    int64\n",
            " 19  freetime    395 non-null    int64\n",
            " 20  goout       395 non-null    int64\n",
            " 21  Dalc        395 non-null    int64\n",
            " 22  Walc        395 non-null    int64\n",
            " 23  health      395 non-null    int64\n",
            " 24  absences    395 non-null    int64\n",
            " 25  G3          395 non-null    int64\n",
            " 26  m_at_home   395 non-null    int64\n",
            " 27  m_health    395 non-null    int64\n",
            " 28  m_other     395 non-null    int64\n",
            " 29  m_services  395 non-null    int64\n",
            " 30  m_teacher   395 non-null    int64\n",
            " 31  f_at_home   395 non-null    int64\n",
            " 32  f_health    395 non-null    int64\n",
            " 33  f_other     395 non-null    int64\n",
            " 34  f_services  395 non-null    int64\n",
            " 35  f_teacher   395 non-null    int64\n",
            " 36  course      395 non-null    int64\n",
            " 37  home        395 non-null    int64\n",
            " 38  other       395 non-null    int64\n",
            " 39  reputation  395 non-null    int64\n",
            " 40  father      395 non-null    int64\n",
            " 41  mother      395 non-null    int64\n",
            " 42  other       395 non-null    int64\n",
            "dtypes: int64(43)\n",
            "memory usage: 132.8 KB\n",
            "None\n"
          ]
        }
      ],
      "source": [
        "print(data.info())"
      ]
    },
    {
      "cell_type": "markdown",
      "metadata": {
        "id": "mzd9gXGeoFdb"
      },
      "source": [
        "### Now that all columns are numerical and non-null, they will be saved in another file called <u> grades_cleaned.csv</u>"
      ]
    },
    {
      "cell_type": "code",
      "execution_count": 27,
      "metadata": {
        "id": "08GUndQboFdb"
      },
      "outputs": [],
      "source": [
        "#Saving to csv\n",
        "\n",
        "data.to_csv('data/grades_clean.csv', index=False)"
      ]
    }
  ],
  "metadata": {
    "colab": {
      "provenance": []
    },
    "kernelspec": {
      "display_name": "Python 3",
      "language": "python",
      "name": "python3"
    },
    "language_info": {
      "codemirror_mode": {
        "name": "ipython",
        "version": 3
      },
      "file_extension": ".py",
      "mimetype": "text/x-python",
      "name": "python",
      "nbconvert_exporter": "python",
      "pygments_lexer": "ipython3",
      "version": "3.11.1"
    },
    "orig_nbformat": 4
  },
  "nbformat": 4,
  "nbformat_minor": 0
}
